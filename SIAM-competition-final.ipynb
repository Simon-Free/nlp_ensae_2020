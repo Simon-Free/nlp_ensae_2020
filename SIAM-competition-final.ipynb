{
 "cells": [
  {
   "cell_type": "markdown",
   "metadata": {},
   "source": [
    "# Projet Python Data Science : Etude des données de la compétition SIAM 2007\n",
    "\n",
    "## Nabil ZAIDI et Simon FREYBURGER"
   ]
  },
  {
   "cell_type": "markdown",
   "metadata": {},
   "source": [
    "# Introduction générale\n",
    "\n",
    "Nous avons choisi, pour notre projet Python Data Science, de nous intéresser à la problématique suivante : Comment faire du Machine Learning quand nous n'avons pas des nombres, mais des textes en entrée ? \n",
    "Nous avons donc tenté d'utiliser différentes méthodes de prédiction sur une base de données qui avait servi de sujet pour la compétition SIAM 2007. Il s'agissait de prédire les caractéristiques de différents relevés de communications du Service d'Enregistrement de la Sécurité Aéronautique américain.\n",
    "\n",
    "L'enjeu principal de ces données a été la gestion des différences de distribution des présences/absences de label. Il fallait donc prêter une attention toute particulière à l'indicateur de précision (vrais positifs / faux positifs + vrais positifs) qui donnait un taux reflétant mieux l'efficacité de l'algorithme que l'indicateur absolu (taux de bonnes réponses)"
   ]
  },
  {
   "cell_type": "code",
   "execution_count": 4,
   "metadata": {},
   "outputs": [],
   "source": [
    "#To manipulate DataFrames\n",
    "import pandas as pd\n",
    "\n",
    "#Plotting data\n",
    "import matplotlib.pyplot as plt\n",
    "%matplotlib inline\n",
    "from scipy.cluster.hierarchy import dendrogram, linkage\n",
    "\n",
    "#Math operations\n",
    "import numpy as np\n",
    "import scipy\n",
    "\n",
    "#Machine Learning\n",
    "from sklearn.ensemble import RandomForestClassifier as RFC\n",
    "from sklearn.svm import SVC\n",
    "\n",
    "#Metrics\n",
    "from sklearn.metrics import precision_score # tp      / ( tp + fp )\n",
    "from sklearn.metrics import accuracy_score  # tp + tn / ( tp + fp + tn + fn  ) \n",
    "from sklearn.metrics import recall_score    # tp      / ( tp + fn )\n",
    "\n",
    "from sklearn.metrics import confusion_matrix\n",
    "\n",
    "dict_score = {'precision' : precision_score, 'accuracy' : accuracy_score,\\\n",
    "              'recall score' : recall_score, \\\n",
    "              'confusion_matrix' : confusion_matrix}\n",
    "\n",
    "#Bag of words\n",
    "from sklearn.feature_extraction.text import TfidfVectorizer\n",
    "from sklearn.feature_extraction.text import CountVectorizer\n",
    "\n",
    "#word2vec\n",
    "import gensim\n",
    "\n",
    "#PCA\n",
    "from sklearn.decomposition import PCA\n",
    "\n",
    "#NLP\n",
    "import re\n",
    "from nltk.stem import SnowballStemmer\n",
    "from nltk.corpus import stopwords\n",
    "from sklearn.feature_extraction import stop_words\n",
    "\n",
    "stemmer = SnowballStemmer('english')\n",
    "stop_w = set(stopwords.words(\"english\"))\n",
    "stop_w.update(stop_words.ENGLISH_STOP_WORDS)\n",
    "stop = set([stemmer.stem(w) for w in stop_w])\n",
    "\n",
    "#Google\n",
    "dire = 'C:\\\\Users\\\\Simon\\\\Desktop\\\\hoodie\\\\Bilou\\\\'\n",
    "import gensim as gs\n",
    "google = gs.models.KeyedVectors.load_word2vec_format(dire + \"GoogleNews-vectors-negative300.bin\", binary=True)"
   ]
  },
  {
   "cell_type": "code",
   "execution_count": 37,
   "metadata": {
    "collapsed": true
   },
   "outputs": [],
   "source": [
    "from collections import Counter"
   ]
  },
  {
   "cell_type": "code",
   "execution_count": 5,
   "metadata": {},
   "outputs": [
    {
     "name": "stdout",
     "output_type": "stream",
     "text": [
      "text entrainement : (21519, 1)\n",
      "cat entrainement  : (21519, 22)\n",
      "text test  : (7077, 1)\n",
      "cat test   : (7077, 22)\n"
     ]
    }
   ],
   "source": [
    "#Retrieving files\n",
    "\n",
    "dire = \"C:\\\\Users\\\\Simon\\\\Desktop\\\\hoodie\\\\Bilou\\\\\"\n",
    "\n",
    "text_train = pd.read_csv(dire + 'texts.csv')\n",
    "    \n",
    "cat_train = pd.read_csv(dire + 'categories.csv')\n",
    "\n",
    "text_test = pd.read_csv(dire + 'texts_test.csv')\n",
    "    \n",
    "cat_test = pd.read_csv(dire + 'categories_test.csv')\n",
    "\n",
    "print(\"text entrainement : {}\".format(text_train.shape))\n",
    "print(\"cat entrainement  : {}\".format(cat_train.shape))\n",
    "print(\"text test  : {}\".format(text_test.shape))\n",
    "print(\"cat test   : {}\".format(cat_test.shape))"
   ]
  },
  {
   "cell_type": "code",
   "execution_count": 6,
   "metadata": {},
   "outputs": [
    {
     "data": {
      "text/html": [
       "<div>\n",
       "<style scoped>\n",
       "    .dataframe tbody tr th:only-of-type {\n",
       "        vertical-align: middle;\n",
       "    }\n",
       "\n",
       "    .dataframe tbody tr th {\n",
       "        vertical-align: top;\n",
       "    }\n",
       "\n",
       "    .dataframe thead th {\n",
       "        text-align: right;\n",
       "    }\n",
       "</style>\n",
       "<table border=\"1\" class=\"dataframe\">\n",
       "  <thead>\n",
       "    <tr style=\"text-align: right;\">\n",
       "      <th></th>\n",
       "      <th>text</th>\n",
       "    </tr>\n",
       "  </thead>\n",
       "  <tbody>\n",
       "    <tr>\n",
       "      <th>0</th>\n",
       "      <td>locate _ distancemeasuringequipment FROM runwa...</td>\n",
       "    </tr>\n",
       "    <tr>\n",
       "      <th>1</th>\n",
       "      <td>IN _ I BECAME AWARE THAT MY ULTRASONIC AND EDD...</td>\n",
       "    </tr>\n",
       "    <tr>\n",
       "      <th>2</th>\n",
       "      <td>visualflightrules FROM feet PIERCE flightlevel...</td>\n",
       "    </tr>\n",
       "    <tr>\n",
       "      <th>3</th>\n",
       "      <td>JUST PRIOR TO rotate A DEER RAN ONTO THE runwa...</td>\n",
       "    </tr>\n",
       "    <tr>\n",
       "      <th>4</th>\n",
       "      <td>climb ON _ degree head TO _ feet GOT traffical...</td>\n",
       "    </tr>\n",
       "  </tbody>\n",
       "</table>\n",
       "</div>"
      ],
      "text/plain": [
       "                                                text\n",
       "0  locate _ distancemeasuringequipment FROM runwa...\n",
       "1  IN _ I BECAME AWARE THAT MY ULTRASONIC AND EDD...\n",
       "2  visualflightrules FROM feet PIERCE flightlevel...\n",
       "3  JUST PRIOR TO rotate A DEER RAN ONTO THE runwa...\n",
       "4  climb ON _ degree head TO _ feet GOT traffical..."
      ]
     },
     "execution_count": 6,
     "metadata": {},
     "output_type": "execute_result"
    }
   ],
   "source": [
    "text_train.head()"
   ]
  },
  {
   "cell_type": "code",
   "execution_count": 7,
   "metadata": {},
   "outputs": [
    {
     "data": {
      "text/html": [
       "<div>\n",
       "<style scoped>\n",
       "    .dataframe tbody tr th:only-of-type {\n",
       "        vertical-align: middle;\n",
       "    }\n",
       "\n",
       "    .dataframe tbody tr th {\n",
       "        vertical-align: top;\n",
       "    }\n",
       "\n",
       "    .dataframe thead th {\n",
       "        text-align: right;\n",
       "    }\n",
       "</style>\n",
       "<table border=\"1\" class=\"dataframe\">\n",
       "  <thead>\n",
       "    <tr style=\"text-align: right;\">\n",
       "      <th></th>\n",
       "      <th>0</th>\n",
       "      <th>1</th>\n",
       "      <th>2</th>\n",
       "      <th>3</th>\n",
       "      <th>4</th>\n",
       "      <th>5</th>\n",
       "      <th>6</th>\n",
       "      <th>7</th>\n",
       "      <th>8</th>\n",
       "      <th>9</th>\n",
       "      <th>...</th>\n",
       "      <th>12</th>\n",
       "      <th>13</th>\n",
       "      <th>14</th>\n",
       "      <th>15</th>\n",
       "      <th>16</th>\n",
       "      <th>17</th>\n",
       "      <th>18</th>\n",
       "      <th>19</th>\n",
       "      <th>20</th>\n",
       "      <th>21</th>\n",
       "    </tr>\n",
       "  </thead>\n",
       "  <tbody>\n",
       "    <tr>\n",
       "      <th>0</th>\n",
       "      <td>-1</td>\n",
       "      <td>1</td>\n",
       "      <td>-1</td>\n",
       "      <td>-1</td>\n",
       "      <td>-1</td>\n",
       "      <td>1</td>\n",
       "      <td>1</td>\n",
       "      <td>-1</td>\n",
       "      <td>-1</td>\n",
       "      <td>-1</td>\n",
       "      <td>...</td>\n",
       "      <td>-1</td>\n",
       "      <td>-1</td>\n",
       "      <td>-1</td>\n",
       "      <td>-1</td>\n",
       "      <td>-1</td>\n",
       "      <td>-1</td>\n",
       "      <td>-1</td>\n",
       "      <td>-1</td>\n",
       "      <td>-1</td>\n",
       "      <td>-1</td>\n",
       "    </tr>\n",
       "    <tr>\n",
       "      <th>1</th>\n",
       "      <td>-1</td>\n",
       "      <td>-1</td>\n",
       "      <td>-1</td>\n",
       "      <td>-1</td>\n",
       "      <td>-1</td>\n",
       "      <td>-1</td>\n",
       "      <td>-1</td>\n",
       "      <td>-1</td>\n",
       "      <td>-1</td>\n",
       "      <td>-1</td>\n",
       "      <td>...</td>\n",
       "      <td>-1</td>\n",
       "      <td>-1</td>\n",
       "      <td>-1</td>\n",
       "      <td>-1</td>\n",
       "      <td>-1</td>\n",
       "      <td>-1</td>\n",
       "      <td>1</td>\n",
       "      <td>-1</td>\n",
       "      <td>-1</td>\n",
       "      <td>-1</td>\n",
       "    </tr>\n",
       "    <tr>\n",
       "      <th>2</th>\n",
       "      <td>-1</td>\n",
       "      <td>1</td>\n",
       "      <td>-1</td>\n",
       "      <td>-1</td>\n",
       "      <td>-1</td>\n",
       "      <td>-1</td>\n",
       "      <td>-1</td>\n",
       "      <td>-1</td>\n",
       "      <td>-1</td>\n",
       "      <td>-1</td>\n",
       "      <td>...</td>\n",
       "      <td>1</td>\n",
       "      <td>1</td>\n",
       "      <td>-1</td>\n",
       "      <td>-1</td>\n",
       "      <td>-1</td>\n",
       "      <td>-1</td>\n",
       "      <td>1</td>\n",
       "      <td>-1</td>\n",
       "      <td>1</td>\n",
       "      <td>-1</td>\n",
       "    </tr>\n",
       "    <tr>\n",
       "      <th>3</th>\n",
       "      <td>-1</td>\n",
       "      <td>-1</td>\n",
       "      <td>-1</td>\n",
       "      <td>-1</td>\n",
       "      <td>-1</td>\n",
       "      <td>-1</td>\n",
       "      <td>-1</td>\n",
       "      <td>-1</td>\n",
       "      <td>-1</td>\n",
       "      <td>-1</td>\n",
       "      <td>...</td>\n",
       "      <td>-1</td>\n",
       "      <td>-1</td>\n",
       "      <td>-1</td>\n",
       "      <td>-1</td>\n",
       "      <td>-1</td>\n",
       "      <td>1</td>\n",
       "      <td>-1</td>\n",
       "      <td>-1</td>\n",
       "      <td>-1</td>\n",
       "      <td>-1</td>\n",
       "    </tr>\n",
       "    <tr>\n",
       "      <th>4</th>\n",
       "      <td>-1</td>\n",
       "      <td>-1</td>\n",
       "      <td>-1</td>\n",
       "      <td>-1</td>\n",
       "      <td>-1</td>\n",
       "      <td>-1</td>\n",
       "      <td>-1</td>\n",
       "      <td>-1</td>\n",
       "      <td>-1</td>\n",
       "      <td>-1</td>\n",
       "      <td>...</td>\n",
       "      <td>-1</td>\n",
       "      <td>-1</td>\n",
       "      <td>-1</td>\n",
       "      <td>-1</td>\n",
       "      <td>-1</td>\n",
       "      <td>-1</td>\n",
       "      <td>-1</td>\n",
       "      <td>-1</td>\n",
       "      <td>-1</td>\n",
       "      <td>-1</td>\n",
       "    </tr>\n",
       "  </tbody>\n",
       "</table>\n",
       "<p>5 rows × 22 columns</p>\n",
       "</div>"
      ],
      "text/plain": [
       "   0  1  2  3  4  5  6  7  8  9 ...  12  13  14  15  16  17  18  19  20  21\n",
       "0 -1  1 -1 -1 -1  1  1 -1 -1 -1 ...  -1  -1  -1  -1  -1  -1  -1  -1  -1  -1\n",
       "1 -1 -1 -1 -1 -1 -1 -1 -1 -1 -1 ...  -1  -1  -1  -1  -1  -1   1  -1  -1  -1\n",
       "2 -1  1 -1 -1 -1 -1 -1 -1 -1 -1 ...   1   1  -1  -1  -1  -1   1  -1   1  -1\n",
       "3 -1 -1 -1 -1 -1 -1 -1 -1 -1 -1 ...  -1  -1  -1  -1  -1   1  -1  -1  -1  -1\n",
       "4 -1 -1 -1 -1 -1 -1 -1 -1 -1 -1 ...  -1  -1  -1  -1  -1  -1  -1  -1  -1  -1\n",
       "\n",
       "[5 rows x 22 columns]"
      ]
     },
     "execution_count": 7,
     "metadata": {},
     "output_type": "execute_result"
    }
   ],
   "source": [
    "cat_train.head()\n",
    "#We can see that for one text there can be multiple labels (text 2 : label 1, 12, 13...)"
   ]
  },
  {
   "cell_type": "markdown",
   "metadata": {},
   "source": [
    "## Nettoyage des données\n",
    "\n",
    "Une fois les données récupérées, on a besoin de les nettoyer. En effet :\n",
    "<ul>\n",
    "    <li>Les textes contiennent des caractères indésirables (ponctuations, etc...), certains mots sont en majuscules et d'autres en minuscules, ce qui pourrait mener à compter le même mot de 2 manières différentes. Aussi, certains mots n'apportent \"rien\" aux textes, ce sont les \"stop words\", nous allons donc les enlever. Enfin, les mots ayant le même radical, ont une signification très proche et peuvent donc être considérés comme similaires, on va donc utiliser un \"stemmer\". \n",
    "    On peut remarquer que certains mots sont collés, par exemple, \"distancemeasuringequipment\", dans un premier temps nous ne les traiterons pas, nous verrons cela ensuite.</li>\n",
    "    <li>Les catégories se composent de -1 et 1, on va donc transformer les -1 en False (ou 0 c'est pareil) </li>\n",
    "</ul>"
   ]
  },
  {
   "cell_type": "code",
   "execution_count": 8,
   "metadata": {
    "collapsed": true,
    "scrolled": true
   },
   "outputs": [],
   "source": [
    "def clean(t, stop = stop):\n",
    "    #This function cleans a text t, by lowering the text, keeping only letter,\n",
    "    #stemming each words and removing stop words and irrelevant words (those with length less than 3). )\n",
    "    \n",
    "    t = re.sub(\"[^a-z]\",\" \",t.lower())#keeping only letters\n",
    "    l_t = t.split()\n",
    "    new_l_t = []\n",
    "    for w in l_t :\n",
    "        #Stemmers remove morphological affixes from words.\n",
    "        new_w = stemmer.stem(w)\n",
    "        if len(new_w) > 3 and new_w not in stop :\n",
    "            new_l_t.append(new_w)\n",
    "    return ' '.join(new_l_t)\n",
    "\n",
    "def preprocessing_train(train, clean = clean):\n",
    "    #The first column, that should contains texts, is renamed 'text' and all texts are cleaned\n",
    "    df = train.copy()\n",
    "    col = df.columns[0]\n",
    "    df[col] = df[col].apply(clean)\n",
    "    df = df.rename(columns = {col : 'text'})\n",
    "    return df\n",
    "\n",
    "def preprocessing_test(test, clean = clean):\n",
    "    #We replace -1 by False, it will be easier to use.\n",
    "    df = test.copy()\n",
    "    df = df.replace(-1,False)\n",
    "    return df\n",
    "\n",
    "X_train = preprocessing_train(text_train)\n",
    "y_train = preprocessing_test(cat_train)\n",
    "X_test = preprocessing_train(text_test)\n",
    "y_test = preprocessing_test(cat_test)"
   ]
  },
  {
   "cell_type": "markdown",
   "metadata": {},
   "source": [
    "## Aperçu des données\n",
    "\n",
    "Pour analyser du texte, tout d'abord, nous allons les représenter en \"bag of words\". Cela va nous permettre de repérer les mots les plus importants, et ensuite de faire du Machine Learning dessus."
   ]
  },
  {
   "cell_type": "code",
   "execution_count": 9,
   "metadata": {
    "collapsed": true
   },
   "outputs": [],
   "source": [
    "def create_bagofwords(list_text, max_feat = 5000):\n",
    "    vectorizer = TfidfVectorizer(\\\n",
    "    #vectorizer = CountVectorizer(\\\n",
    "                                analyzer = \"word\",   \\\n",
    "                                tokenizer = None,    \\\n",
    "                                preprocessor = None, \\\n",
    "                                stop_words = None,   \\\n",
    "                                ngram_range=(1, 2),  \\\n",
    "                                 #We take words but also couples of words\n",
    "                                token_pattern=r'\\b\\w+\\b',\\\n",
    "                                max_features = max_feat)\n",
    "    #Initialize the \"vectorizer\" object, which is our bag of words tool\n",
    "    text_vectors = vectorizer.fit_transform( list_text ).toarray()\n",
    "    #Creates the vectorizer and vectorizes the texts\n",
    "    #We convert out vector to an array because it's easier, and faster to work with\n",
    "    \n",
    "    return vectorizer, text_vectors"
   ]
  },
  {
   "cell_type": "markdown",
   "metadata": {},
   "source": [
    "### Tentative de caractérisation des labels\n",
    "\n",
    "Une première difficulté de l'analyse de ce corpus de texte vient du fait que nous n'avons aucune idée de ce que représentent les différents labels. Ils pourraient être plus ou moins importants, plus ou moins facile à prédire etc...\n",
    "\n",
    "Nous allons donc dans un premier temps essayer de représenter pour chaque label les mots qui le caractérisent. Étant donné qu'un texte peut avoir plusieurs labels, pour chaque label nous allons nous intéresser seulement aux textes qui sont labellisés uniquement par celui-ci. On aura alors plus de chance (ce sera plus simple) de comprendre les mots communs en particulier à ce label. Il faudra bien évidemment comparer cela avec les mots des autres labels pour comprendre si un mot apparaît souvent ou seulement dans un label. Lors de la création des bag of words nous avons utilisé le score TF-IDF, les mots présents dans tous les textes seront donc pénalisés, mais il faut néanmoins y prêter attention."
   ]
  },
  {
   "cell_type": "code",
   "execution_count": 10,
   "metadata": {
    "scrolled": true
   },
   "outputs": [
    {
     "name": "stdout",
     "output_type": "stream",
     "text": [
      "Les 20 mots les plus utilisés dans les   28 textes labelisés uniquement par 0 :\n"
     ]
    },
    {
     "data": {
      "image/png": "[encoded data removed]",
      "text/plain": [
       "<matplotlib.figure.Figure at 0x2b6f6b460f0>"
      ]
     },
     "metadata": {},
     "output_type": "display_data"
    },
    {
     "name": "stdout",
     "output_type": "stream",
     "text": [
      "Les 20 mots les plus utilisés dans les 1603 textes labelisés uniquement par 1 :\n"
     ]
    },
    {
     "data": {
      "image/png": "[encoded data removed]",
      "text/plain": [
       "<matplotlib.figure.Figure at 0x2b6834ffcf8>"
      ]
     },
     "metadata": {},
     "output_type": "display_data"
    },
    {
     "name": "stdout",
     "output_type": "stream",
     "text": [
      "Les 20 mots les plus utilisés dans les   39 textes labelisés uniquement par 2 :\n"
     ]
    },
    {
     "data": {
      "image/png": "[encoded data removed]",
      "text/plain": [
       "<matplotlib.figure.Figure at 0x2b6834ffc88>"
      ]
     },
     "metadata": {},
     "output_type": "display_data"
    },
    {
     "name": "stdout",
     "output_type": "stream",
     "text": [
      "Les 20 mots les plus utilisés dans les   41 textes labelisés uniquement par 3 :\n"
     ]
    },
    {
     "data": {
      "image/png": "[encoded data removed]",
      "text/plain": [
       "<matplotlib.figure.Figure at 0x2b680b0e2b0>"
      ]
     },
     "metadata": {},
     "output_type": "display_data"
    },
    {
     "name": "stdout",
     "output_type": "stream",
     "text": [
      "Les 20 mots les plus utilisés dans les  162 textes labelisés uniquement par 4 :\n"
     ]
    },
    {
     "data": {
      "image/png": "[encoded data removed]",
      "text/plain": [
       "<matplotlib.figure.Figure at 0x2b6fd05ab70>"
      ]
     },
     "metadata": {},
     "output_type": "display_data"
    },
    {
     "name": "stdout",
     "output_type": "stream",
     "text": [
      "Les 20 mots les plus utilisés dans les  412 textes labelisés uniquement par 5 :\n"
     ]
    },
    {
     "data": {
      "image/png": "[encoded data removed]",
      "text/plain": [
       "<matplotlib.figure.Figure at 0x2b680898a58>"
      ]
     },
     "metadata": {},
     "output_type": "display_data"
    },
    {
     "name": "stdout",
     "output_type": "stream",
     "text": [
      "Les 20 mots les plus utilisés dans les   59 textes labelisés uniquement par 6 :\n"
     ]
    },
    {
     "data": {
      "image/png": "[encoded data removed]",
      "text/plain": [
       "<matplotlib.figure.Figure at 0x2b680d7e4a8>"
      ]
     },
     "metadata": {},
     "output_type": "display_data"
    },
    {
     "name": "stdout",
     "output_type": "stream",
     "text": [
      "Les 20 mots les plus utilisés dans les   59 textes labelisés uniquement par 7 :\n"
     ]
    },
    {
     "data": {
      "image/png": "[encoded data removed]",
      "text/plain": [
       "<matplotlib.figure.Figure at 0x2b680d7e860>"
      ]
     },
     "metadata": {},
     "output_type": "display_data"
    },
    {
     "name": "stdout",
     "output_type": "stream",
     "text": [
      "Les 20 mots les plus utilisés dans les   25 textes labelisés uniquement par 8 :\n"
     ]
    },
    {
     "data": {
      "image/png": "[encoded data removed]",
      "text/plain": [
       "<matplotlib.figure.Figure at 0x2b6833847b8>"
      ]
     },
     "metadata": {},
     "output_type": "display_data"
    },
    {
     "name": "stdout",
     "output_type": "stream",
     "text": [
      "Les 20 mots les plus utilisés dans les   36 textes labelisés uniquement par 9 :\n"
     ]
    },
    {
     "data": {
      "image/png": "[encoded data removed]",
      "text/plain": [
       "<matplotlib.figure.Figure at 0x2b6f7cc9fd0>"
      ]
     },
     "metadata": {},
     "output_type": "display_data"
    },
    {
     "name": "stdout",
     "output_type": "stream",
     "text": [
      "Les 20 mots les plus utilisés dans les   39 textes labelisés uniquement par 10 :\n"
     ]
    },
    {
     "data": {
      "image/png": "[encoded data removed]",
      "text/plain": [
       "<matplotlib.figure.Figure at 0x2b68073acf8>"
      ]
     },
     "metadata": {},
     "output_type": "display_data"
    },
    {
     "name": "stdout",
     "output_type": "stream",
     "text": [
      "Les 20 mots les plus utilisés dans les  597 textes labelisés uniquement par 11 :\n"
     ]
    },
    {
     "data": {
      "image/png": "[encoded data removed]",
      "text/plain": [
       "<matplotlib.figure.Figure at 0x2b68073ac88>"
      ]
     },
     "metadata": {},
     "output_type": "display_data"
    },
    {
     "name": "stdout",
     "output_type": "stream",
     "text": [
      "Les 20 mots les plus utilisés dans les  296 textes labelisés uniquement par 12 :\n"
     ]
    },
    {
     "data": {
      "image/png": "[encoded data removed]",
      "text/plain": [
       "<matplotlib.figure.Figure at 0x2b6fe0117f0>"
      ]
     },
     "metadata": {},
     "output_type": "display_data"
    },
    {
     "name": "stdout",
     "output_type": "stream",
     "text": [
      "Les 20 mots les plus utilisés dans les   44 textes labelisés uniquement par 13 :\n"
     ]
    },
    {
     "data": {
      "image/png": "[encoded data removed]",
      "text/plain": [
       "<matplotlib.figure.Figure at 0x2b6817faf60>"
      ]
     },
     "metadata": {},
     "output_type": "display_data"
    },
    {
     "name": "stdout",
     "output_type": "stream",
     "text": [
      "Aucun texte n'est labélisé uniquement par 14\n",
      "Les 20 mots les plus utilisés dans les   51 textes labelisés uniquement par 15 :\n"
     ]
    },
    {
     "data": {
      "image/png": "[encoded data removed]",
      "text/plain": [
       "<matplotlib.figure.Figure at 0x2b6fdb28780>"
      ]
     },
     "metadata": {},
     "output_type": "display_data"
    },
    {
     "name": "stdout",
     "output_type": "stream",
     "text": [
      "Les 20 mots les plus utilisés dans les   42 textes labelisés uniquement par 16 :\n"
     ]
    },
    {
     "data": {
      "image/png": "[encoded data removed]",
      "text/plain": [
       "<matplotlib.figure.Figure at 0x2b6f8eb4d68>"
      ]
     },
     "metadata": {},
     "output_type": "display_data"
    },
    {
     "name": "stdout",
     "output_type": "stream",
     "text": [
      "Les 20 mots les plus utilisés dans les  155 textes labelisés uniquement par 17 :\n"
     ]
    },
    {
     "data": {
      "image/png": "[encoded data removed]",
      "text/plain": [
       "<matplotlib.figure.Figure at 0x2b6fd66ceb8>"
      ]
     },
     "metadata": {},
     "output_type": "display_data"
    },
    {
     "name": "stdout",
     "output_type": "stream",
     "text": [
      "Les 20 mots les plus utilisés dans les 1887 textes labelisés uniquement par 18 :\n"
     ]
    },
    {
     "data": {
      "image/png": "[encoded data removed]",
      "text/plain": [
       "<matplotlib.figure.Figure at 0x2b6f78d2c18>"
      ]
     },
     "metadata": {},
     "output_type": "display_data"
    },
    {
     "name": "stdout",
     "output_type": "stream",
     "text": [
      "Les 20 mots les plus utilisés dans les   62 textes labelisés uniquement par 19 :\n"
     ]
    },
    {
     "data": {
      "image/png": "[encoded data removed]",
      "text/plain": [
       "<matplotlib.figure.Figure at 0x2b6f8eb46d8>"
      ]
     },
     "metadata": {},
     "output_type": "display_data"
    },
    {
     "name": "stdout",
     "output_type": "stream",
     "text": [
      "Les 20 mots les plus utilisés dans les  196 textes labelisés uniquement par 20 :\n"
     ]
    },
    {
     "data": {
      "image/png": "[encoded data removed]",
      "text/plain": [
       "<matplotlib.figure.Figure at 0x2b683e46400>"
      ]
     },
     "metadata": {},
     "output_type": "display_data"
    },
    {
     "name": "stdout",
     "output_type": "stream",
     "text": [
      "Les 20 mots les plus utilisés dans les  116 textes labelisés uniquement par 21 :\n"
     ]
    },
    {
     "data": {
      "image/png": "[encoded data removed]",
      "text/plain": [
       "<matplotlib.figure.Figure at 0x2b6f78d2b00>"
      ]
     },
     "metadata": {},
     "output_type": "display_data"
    }
   ],
   "source": [
    "X_train['label'] = y_train.apply(lambda row : [int(k) for k in y_train.columns if row[k]], axis = 1)\n",
    "#The column label contains, for each text, all his labels\n",
    "\n",
    "def histogram(df,col = 0, n_words = 20):\n",
    "    #n_words is number of words we want to plot\n",
    "    df_plt = df.sort_values(by = col, ascending=False)\n",
    "    df_plt = df_plt.iloc[:n_words,col]\n",
    "    \n",
    "    y_pos = np.arange(n_words)\n",
    "    plt.barh(y_pos, list(df_plt), align='center')\n",
    "    plt.yticks(y_pos, df_plt.index)\n",
    "    plt.axis([10*int(min(df_plt)/10), 10*int(max(df_plt)/10+1),-1.39, 20.39])\n",
    "    #If all values are superior to 1000, no need to show in the axis 0 to 1000.\n",
    "    \n",
    "    plt.show()\n",
    "    \n",
    "def best_words(df):\n",
    "    #For each label, we will see what are the most important words that could caracterize this label\n",
    "    \n",
    "    vect, l_t = create_bagofwords(df['text'], max_feat = 5000)\n",
    "    for v in y_train.columns :\n",
    "        work = df[df['label'].apply(lambda x : x == [int(v)])]\n",
    "        #To see what words caracterize a label we need to keep the texts that have only this label.\n",
    "        w_t = [l_t[t] for t in work.index] #We retrieve the bag of words of these texts\n",
    "        if w_t :\n",
    "            sum_l = sum(w_t) #We sum the score of each word\n",
    "            occurences = {w : sum_l[vect.vocabulary_[w]] for w in vect.vocabulary_}\n",
    "            df_occ = pd.DataFrame(occurences, index = [0]).transpose()\n",
    "            print(\"Les 20 mots les plus utilisés dans les {:>4} textes labelisés uniquement par {} :\".format(len(w_t),v))\n",
    "            histogram(df_occ)\n",
    "        else :\n",
    "            print(\"Aucun texte n'est labélisé uniquement par {}\".format(v))\n",
    "\n",
    "best_words(X_train)"
   ]
  },
  {
   "cell_type": "markdown",
   "metadata": {},
   "source": [
    "#### Description de (certains) labels\n",
    "\n",
    "On peut remarquer, dans un premier temps, qu'aucun texte n'est labelisé uniquement par 14, il sera donc surement difficile de bien prédire ce label, étant donné qu'on aura peu d'information pour caractériser ce label. En effet, les informations qu'on aura, seront un mélange de caractéristiques du label 14 et d'autres labels.\n",
    "\n",
    "Dans un second temps, on peut remarquer, dans le même genre, que plusieurs labels n'ont que très peu de texte les \"caractérisant\".\n",
    "\n",
    "Enfin, on peut avoir une idée, pour certains labels, de ce qu'ils représentent. Par exemple, le label 21 contient les mots \"seat\", \"secur\", \"board\", \"lavatori\", \"alcohol\", \"drink\", ce qui peut nous laisser penser que ces textes traitent des passagers et de leurs conditions de voyage."
   ]
  },
  {
   "cell_type": "code",
   "execution_count": 11,
   "metadata": {},
   "outputs": [
    {
     "name": "stdout",
     "output_type": "stream",
     "text": [
      "passeng misconduct entrydoor close prior engin start flightattend number inform passeng aircraft went flightattend number malepasseng heat argument passeng later identifi airbas flightattend number advis passeng refus return seat violent newspap flightattend observ demonstr anger attitud passeng agre potentialproblem enrout safe passeng crew underway passeng leav aircraft stair bring passeng deplan\n",
      "\n",
      "\n",
      "assist passeng midcabin section plane return galley complet cater check need cabin assist baggag leav rememb mallet credenza aisl midcabin approxim minut went galley notic mallet gone thought misplac help passeng went left cabin lavatori mallet lavatori credenza note write paper towel close lavatori door lock lavatori captain want know exact note open lavatori door pull note mallet touch mallet fingerprint necessari note bitch kill captain secur bomb bring flight left hour later went secur luggag snif coupl peopl suspect captain permit airplan\n"
     ]
    }
   ],
   "source": [
    "print(X_train[X_train['label'].apply(lambda x : x == [21])].iloc[0]['text'])\n",
    "print('\\n')\n",
    "print(X_train[X_train['label'].apply(lambda x : x == [21])].iloc[1]['text'])\n",
    "#Our conclusion seems to be correct"
   ]
  },
  {
   "cell_type": "markdown",
   "metadata": {},
   "source": [
    "# Modèle de Machine Learning avec Bag of Words\n",
    "\n",
    "La compréhension des différents labels s'avérant plutôt compliqué, nous allons tenter de voir si un algorithme de machine learning y arrive mieux que nous.\n",
    "\n",
    "Nous aurons surement à essayer plusieurs modèles de classifeur, la fonction \"create_model\" va donc créer les bag of words, entrainer le classifieur et transformer l'échantillon test."
   ]
  },
  {
   "cell_type": "code",
   "execution_count": 12,
   "metadata": {
    "collapsed": true
   },
   "outputs": [],
   "source": [
    "def create_model(classifier, X_train, y_train, X_test):\n",
    "    #This function returns a vectorizer of bag of words, \n",
    "    #a trained classifier and the x_test ready to be predicted\n",
    "    \n",
    "    vect, x_train = create_bagofwords(X_train) #Bag of words\n",
    "    classifier.fit(x_train,y_train) #We fit the train data\n",
    "    x_test = vect.transform(X_test).toarray() #Transform the test data\n",
    "    \n",
    "    return vect, classifier, x_test"
   ]
  },
  {
   "cell_type": "markdown",
   "metadata": {},
   "source": [
    "Nous avons vu que nous traitions un problème multi-label, car à un texte on peut associer plusieurs labels. On va donc tenter un premier algorithme de Machine Learning supportant le multi-label, le RandomForest.\n",
    "\n",
    "Nous allons essayer avec 10, puis 50 et enfin 100 arbres afin de comparer les résultats."
   ]
  },
  {
   "cell_type": "code",
   "execution_count": 13,
   "metadata": {},
   "outputs": [
    {
     "name": "stdout",
     "output_type": "stream",
     "text": [
      "Pour  10 estimateurs on obtient un score de : 0.192\n",
      "Pour  50 estimateurs on obtient un score de : 0.216\n",
      "Pour 100 estimateurs on obtient un score de : 0.220\n"
     ]
    }
   ],
   "source": [
    "#Multi-label classification\n",
    "\n",
    "for n in [10,50,100] :\n",
    "    model = RFC(n_estimators = n, n_jobs = -1)\n",
    "    _,classifier, x_test = create_model(model,X_train['text'],y_train, X_test['text'])\n",
    "    print('Pour {:>3} estimateurs on obtient un score de : {:4.3f}'.format(n,classifier.score(x_test,y_test)))"
   ]
  },
  {
   "cell_type": "markdown",
   "metadata": {},
   "source": [
    "Ici, on s'intéresse au score \"accuracy\", défini par : $\\frac{\\text{nombre de bonnes réponses}}{\\text{total}}$.\n",
    "\n",
    "Si les résultats augmentent avec le nombre d'estimateurs, l'amélioration est très légère, et ils sont encore très faibles.\n",
    "\n",
    "On va donc essayer de prédire label par label, et ensuite réunir les résultats. Soit on obtiendra un score plus élevé, soit on pourra peut-être voir les labels que l'on prédit mal."
   ]
  },
  {
   "cell_type": "code",
   "execution_count": 14,
   "metadata": {},
   "outputs": [
    {
     "name": "stdout",
     "output_type": "stream",
     "text": [
      "Pour la valeur :  0, on obtient un score de : 0.955\n",
      "Pour la valeur :  1, on obtient un score de : 0.639\n",
      "Pour la valeur :  2, on obtient un score de : 0.984\n",
      "Pour la valeur :  3, on obtient un score de : 0.975\n",
      "Pour la valeur :  4, on obtient un score de : 0.937\n",
      "Pour la valeur :  5, on obtient un score de : 0.806\n",
      "Pour la valeur :  6, on obtient un score de : 0.915\n",
      "Pour la valeur :  7, on obtient un score de : 0.912\n",
      "Pour la valeur :  8, on obtient un score de : 0.976\n",
      "Pour la valeur :  9, on obtient un score de : 0.938\n",
      "Pour la valeur : 10, on obtient un score de : 0.984\n",
      "Pour la valeur : 11, on obtient un score de : 0.920\n",
      "Pour la valeur : 12, on obtient un score de : 0.901\n",
      "Pour la valeur : 13, on obtient un score de : 0.963\n",
      "Pour la valeur : 14, on obtient un score de : 0.970\n",
      "Pour la valeur : 15, on obtient un score de : 0.957\n",
      "Pour la valeur : 16, on obtient un score de : 0.980\n",
      "Pour la valeur : 17, on obtient un score de : 0.955\n",
      "Pour la valeur : 18, on obtient un score de : 0.857\n",
      "Pour la valeur : 19, on obtient un score de : 0.982\n",
      "Pour la valeur : 20, on obtient un score de : 0.984\n",
      "Pour la valeur : 21, on obtient un score de : 0.982\n"
     ]
    }
   ],
   "source": [
    "model = RFC(n_estimators = 50, n_jobs = -1)\n",
    "#50 is an arbitrary value, not too small to have better results but not too high because we have 22 model to train.\n",
    "\n",
    "values = y_train.columns\n",
    "\n",
    "predicted = []\n",
    "\n",
    "for v in values :\n",
    "    _,classifier, x_test = create_model(model, X_train['text'], y_train[v], X_test['text'])\n",
    "    y_predicted = classifier.predict(x_test)\n",
    "    \n",
    "    predicted.append(y_predicted)\n",
    "    \n",
    "    print('Pour la valeur : {:>2}, on obtient un score de : {:4.3f}'\\\n",
    "          .format(v, accuracy_score(y_test[v],y_predicted)))"
   ]
  },
  {
   "cell_type": "markdown",
   "metadata": {},
   "source": [
    "On remarque alors que pour la plupart des labels les scores sont très bons, on va donc voir si en multi-label le résultat est encore aussi bon."
   ]
  },
  {
   "cell_type": "code",
   "execution_count": 15,
   "metadata": {},
   "outputs": [
    {
     "name": "stdout",
     "output_type": "stream",
     "text": [
      "Le score pour la classification multi-label,obtenu en concatenant les différentes classifications par label est de : 0.234\n"
     ]
    }
   ],
   "source": [
    "df_predicted_1 = pd.DataFrame(predicted).transpose()\n",
    "df_predicted_1.columns = y_test.columns\n",
    "\n",
    "print(\"Le score pour la classification multi-label,\\\n",
    "obtenu en concatenant les différentes classifications par label est de : {:>4.03f}\".\\\n",
    "format(accuracy_score(y_test,df_predicted_1)))"
   ]
  },
  {
   "cell_type": "markdown",
   "metadata": {},
   "source": [
    "Le résultat est légèrement amélioré par rapport à la classification multi-label, mais reste néanmoins très bas.\n",
    "\n",
    "Pourquoi, alors que la prédiction label par label paraît satisfaisante, la prédiction multi-label est de faible qualité ?\n",
    "\n",
    "Une des réponses possibles est que l'on considère le score \"accuracy\". Donc, si les données sont déséquilibrées  (\"imbalanced\") et donc si par exemple on a très peu de positif et beaucoup de négatif pour un label, alors un classifieur qui prédit toujours négatif aura une \"accuracy\" élevée, mais ne sera pas bon pour autant : si on prend l'exemple des fraudes, le principe même est qu'il y en a très peu et qu'il faut les trouver..."
   ]
  },
  {
   "cell_type": "code",
   "execution_count": 16,
   "metadata": {
    "scrolled": true
   },
   "outputs": [
    {
     "name": "stdout",
     "output_type": "stream",
     "text": [
      "Pour la valeur :  0, on obtient un ratio de :  1441 / 21519\n",
      "Pour la valeur :  1, on obtient un ratio de : 12876 / 21519\n",
      "Pour la valeur :  2, on obtient un ratio de :   393 / 21519\n",
      "Pour la valeur :  3, on obtient un ratio de :   428 / 21519\n",
      "Pour la valeur :  4, on obtient un ratio de :  3062 / 21519\n",
      "Pour la valeur :  5, on obtient un ratio de :  6065 / 21519\n",
      "Pour la valeur :  6, on obtient un ratio de :  1684 / 21519\n",
      "Pour la valeur :  7, on obtient un ratio de :  2213 / 21519\n",
      "Pour la valeur :  8, on obtient un ratio de :   405 / 21519\n",
      "Pour la valeur :  9, on obtient un ratio de :  1107 / 21519\n",
      "Pour la valeur : 10, on obtient un ratio de :   353 / 21519\n",
      "Pour la valeur : 11, on obtient un ratio de :  3357 / 21519\n",
      "Pour la valeur : 12, on obtient un ratio de :  2162 / 21519\n",
      "Pour la valeur : 13, on obtient un ratio de :  1261 / 21519\n",
      "Pour la valeur : 14, on obtient un ratio de :   325 / 21519\n",
      "Pour la valeur : 15, on obtient un ratio de :   935 / 21519\n",
      "Pour la valeur : 16, on obtient un ratio de :   394 / 21519\n",
      "Pour la valeur : 17, on obtient un ratio de :  1139 / 21519\n",
      "Pour la valeur : 18, on obtient un ratio de :  6767 / 21519\n",
      "Pour la valeur : 19, on obtient un ratio de :   647 / 21519\n",
      "Pour la valeur : 20, on obtient un ratio de :   304 / 21519\n",
      "Pour la valeur : 21, on obtient un ratio de :   574 / 21519\n"
     ]
    }
   ],
   "source": [
    "#How imbalanced is the training set ?\n",
    "\n",
    "for v in y_train.columns :\n",
    "    true_train = y_train[v].sum()\n",
    "    \n",
    "    print('Pour la valeur : {:>2}, on obtient un ratio de : {:>5.0f} / {:>5.0f}'\\\n",
    "          .format(v, true_train, y_train.shape[0]))"
   ]
  },
  {
   "cell_type": "markdown",
   "metadata": {},
   "source": [
    "On constate donc clairement que pour la plupart des labels, l'échantillon d'entraînement est déséquilibré. On va donc tenter de résoudre ce déséquilibre en ne prenant, pour chaque label, qu'une partie de l'échantillon d'entraînement négatif afin d'avoir légèrement plus de négatifs que de positifs.\n",
    "\n",
    "Nous allons en particulier utiliser deux autres scores, la \"precision\", définie par $\\frac{tp}{tp+fp}$ et le \"recall score\", défini par $\\frac{tp}{tp+fn}$. Nous utiliserons aussi les matrices de confusion pour avoir une vision \"neutre\" des résultats."
   ]
  },
  {
   "cell_type": "code",
   "execution_count": 17,
   "metadata": {
    "scrolled": true
   },
   "outputs": [
    {
     "name": "stdout",
     "output_type": "stream",
     "text": [
      "Valeur  0 effectuée\n",
      "Valeur  1 effectuée\n",
      "Valeur  2 effectuée\n",
      "Valeur  3 effectuée\n",
      "Valeur  4 effectuée\n",
      "Valeur  5 effectuée\n",
      "Valeur  6 effectuée\n",
      "Valeur  7 effectuée\n",
      "Valeur  8 effectuée\n",
      "Valeur  9 effectuée\n",
      "Valeur 10 effectuée\n",
      "Valeur 11 effectuée\n",
      "Valeur 12 effectuée\n",
      "Valeur 13 effectuée\n",
      "Valeur 14 effectuée\n",
      "Valeur 15 effectuée\n",
      "Valeur 16 effectuée\n",
      "Valeur 17 effectuée\n",
      "Valeur 18 effectuée\n",
      "Valeur 19 effectuée\n",
      "Valeur 20 effectuée\n",
      "Valeur 21 effectuée\n"
     ]
    }
   ],
   "source": [
    "model = RFC(n_estimators = 50, n_jobs = -1)\n",
    "#50 is an arbitrary value, not too small to have better results but not too high because we have 22 model to train.\n",
    "\n",
    "def multilabel_class(X_train, Y_train, X_test, Y_test, model = model):\n",
    "    values = Y_train.columns\n",
    "    false_rate = 1.5 #Arbitrary value : Since the training set is imbalanced,\n",
    "    #we will keep only, approximatively, 1.2 more negatives examples than positives in the training set.\n",
    "    \n",
    "    dict_prediction = {}\n",
    "    scores = {}\n",
    "    \n",
    "    predicted = []\n",
    "    \n",
    "    for v in values :\n",
    "        \n",
    "        y = Y_train[v]\n",
    "        x_true = X_train[ y == 1]\n",
    "        x_false = X_train[ y == 0]\n",
    "        \n",
    "        y_predicted = []\n",
    "        y_score = 0\n",
    "        x_train = pd.concat([x_true,\\\n",
    "                             x_false.sample(min(int(y.sum()*false_rate), x_false.shape[0]))])\n",
    "        y_train = y.loc[x_train.index]\n",
    "        \n",
    "        _,classifier, x_test = create_model(model, x_train['text'], y_train, X_test['text'])\n",
    "        \n",
    "        dict_prediction[v] = {}\n",
    "        dict_prediction[v]['classifier'] = classifier\n",
    "        dict_prediction[v]['to predict'] = x_test\n",
    "        dict_prediction[v]['predicted'] = classifier.predict(x_test)\n",
    "        dict_prediction[v]['true label'] = Y_test[v]\n",
    "        \n",
    "        scores[v] = {}\n",
    "        for name,score in dict_score.items() :\n",
    "            scores[v][name] = score(Y_test[v],dict_prediction[v]['predicted'])\n",
    "        print('Valeur {:>2} effectuée'.format(v))\n",
    "            \n",
    "    return scores, dict_prediction\n",
    "\n",
    "scores, dict_prediction = multilabel_class(X_train, y_train, X_test, y_test)\n",
    "scores = pd.DataFrame(scores).transpose()"
   ]
  },
  {
   "cell_type": "code",
   "execution_count": 18,
   "metadata": {
    "collapsed": true
   },
   "outputs": [],
   "source": [
    "old_scores = {}\n",
    "for v in y_test.columns :\n",
    "    old_scores[v] = {}\n",
    "    for name,score in dict_score.items() :\n",
    "            old_scores[v][name] = score(y_test[v],df_predicted_1[v])\n",
    "old_scores = pd.DataFrame(old_scores).transpose()"
   ]
  },
  {
   "cell_type": "code",
   "execution_count": 19,
   "metadata": {
    "scrolled": true
   },
   "outputs": [
    {
     "data": {
      "text/html": [
       "<div>\n",
       "<style scoped>\n",
       "    .dataframe tbody tr th:only-of-type {\n",
       "        vertical-align: middle;\n",
       "    }\n",
       "\n",
       "    .dataframe tbody tr th {\n",
       "        vertical-align: top;\n",
       "    }\n",
       "\n",
       "    .dataframe thead th {\n",
       "        text-align: right;\n",
       "    }\n",
       "</style>\n",
       "<table border=\"1\" class=\"dataframe\">\n",
       "  <thead>\n",
       "    <tr style=\"text-align: right;\">\n",
       "      <th></th>\n",
       "      <th>accuracy</th>\n",
       "      <th>confusion_matrix</th>\n",
       "      <th>precision</th>\n",
       "      <th>recall score</th>\n",
       "    </tr>\n",
       "  </thead>\n",
       "  <tbody>\n",
       "    <tr>\n",
       "      <th>0</th>\n",
       "      <td>0.9545</td>\n",
       "      <td>[[6575, 67], [255, 180]]</td>\n",
       "      <td>0.728745</td>\n",
       "      <td>0.413793</td>\n",
       "    </tr>\n",
       "    <tr>\n",
       "      <th>1</th>\n",
       "      <td>0.638689</td>\n",
       "      <td>[[1681, 2099], [458, 2839]]</td>\n",
       "      <td>0.574929</td>\n",
       "      <td>0.861086</td>\n",
       "    </tr>\n",
       "    <tr>\n",
       "      <th>10</th>\n",
       "      <td>0.98375</td>\n",
       "      <td>[[6900, 16], [99, 62]]</td>\n",
       "      <td>0.794872</td>\n",
       "      <td>0.385093</td>\n",
       "    </tr>\n",
       "    <tr>\n",
       "      <th>11</th>\n",
       "      <td>0.919881</td>\n",
       "      <td>[[5960, 199], [368, 550]]</td>\n",
       "      <td>0.734312</td>\n",
       "      <td>0.599129</td>\n",
       "    </tr>\n",
       "    <tr>\n",
       "      <th>12</th>\n",
       "      <td>0.901088</td>\n",
       "      <td>[[6169, 221], [479, 208]]</td>\n",
       "      <td>0.484848</td>\n",
       "      <td>0.302766</td>\n",
       "    </tr>\n",
       "    <tr>\n",
       "      <th>13</th>\n",
       "      <td>0.96312</td>\n",
       "      <td>[[6644, 40], [221, 172]]</td>\n",
       "      <td>0.811321</td>\n",
       "      <td>0.437659</td>\n",
       "    </tr>\n",
       "    <tr>\n",
       "      <th>14</th>\n",
       "      <td>0.970468</td>\n",
       "      <td>[[6862, 32], [177, 6]]</td>\n",
       "      <td>0.157895</td>\n",
       "      <td>0.0327869</td>\n",
       "    </tr>\n",
       "    <tr>\n",
       "      <th>15</th>\n",
       "      <td>0.95662</td>\n",
       "      <td>[[6722, 41], [266, 48]]</td>\n",
       "      <td>0.539326</td>\n",
       "      <td>0.152866</td>\n",
       "    </tr>\n",
       "    <tr>\n",
       "      <th>16</th>\n",
       "      <td>0.979652</td>\n",
       "      <td>[[6901, 14], [130, 32]]</td>\n",
       "      <td>0.695652</td>\n",
       "      <td>0.197531</td>\n",
       "    </tr>\n",
       "    <tr>\n",
       "      <th>17</th>\n",
       "      <td>0.954642</td>\n",
       "      <td>[[6662, 64], [257, 94]]</td>\n",
       "      <td>0.594937</td>\n",
       "      <td>0.267806</td>\n",
       "    </tr>\n",
       "    <tr>\n",
       "      <th>18</th>\n",
       "      <td>0.85686</td>\n",
       "      <td>[[4696, 614], [399, 1368]]</td>\n",
       "      <td>0.690212</td>\n",
       "      <td>0.774194</td>\n",
       "    </tr>\n",
       "    <tr>\n",
       "      <th>19</th>\n",
       "      <td>0.982055</td>\n",
       "      <td>[[6820, 28], [99, 130]]</td>\n",
       "      <td>0.822785</td>\n",
       "      <td>0.567686</td>\n",
       "    </tr>\n",
       "    <tr>\n",
       "      <th>2</th>\n",
       "      <td>0.98375</td>\n",
       "      <td>[[6845, 10], [105, 117]]</td>\n",
       "      <td>0.92126</td>\n",
       "      <td>0.527027</td>\n",
       "    </tr>\n",
       "    <tr>\n",
       "      <th>20</th>\n",
       "      <td>0.984033</td>\n",
       "      <td>[[6934, 6], [107, 30]]</td>\n",
       "      <td>0.833333</td>\n",
       "      <td>0.218978</td>\n",
       "    </tr>\n",
       "    <tr>\n",
       "      <th>21</th>\n",
       "      <td>0.982478</td>\n",
       "      <td>[[6830, 14], [110, 123]]</td>\n",
       "      <td>0.89781</td>\n",
       "      <td>0.527897</td>\n",
       "    </tr>\n",
       "    <tr>\n",
       "      <th>3</th>\n",
       "      <td>0.974848</td>\n",
       "      <td>[[6870, 25], [153, 29]]</td>\n",
       "      <td>0.537037</td>\n",
       "      <td>0.159341</td>\n",
       "    </tr>\n",
       "    <tr>\n",
       "      <th>4</th>\n",
       "      <td>0.936555</td>\n",
       "      <td>[[6041, 183], [266, 587]]</td>\n",
       "      <td>0.762338</td>\n",
       "      <td>0.688159</td>\n",
       "    </tr>\n",
       "    <tr>\n",
       "      <th>5</th>\n",
       "      <td>0.805991</td>\n",
       "      <td>[[4789, 690], [683, 915]]</td>\n",
       "      <td>0.570093</td>\n",
       "      <td>0.572591</td>\n",
       "    </tr>\n",
       "    <tr>\n",
       "      <th>6</th>\n",
       "      <td>0.915218</td>\n",
       "      <td>[[6427, 104], [496, 50]]</td>\n",
       "      <td>0.324675</td>\n",
       "      <td>0.0915751</td>\n",
       "    </tr>\n",
       "    <tr>\n",
       "      <th>7</th>\n",
       "      <td>0.911968</td>\n",
       "      <td>[[6334, 112], [511, 120]]</td>\n",
       "      <td>0.517241</td>\n",
       "      <td>0.190174</td>\n",
       "    </tr>\n",
       "    <tr>\n",
       "      <th>8</th>\n",
       "      <td>0.976261</td>\n",
       "      <td>[[6899, 10], [158, 10]]</td>\n",
       "      <td>0.5</td>\n",
       "      <td>0.0595238</td>\n",
       "    </tr>\n",
       "    <tr>\n",
       "      <th>9</th>\n",
       "      <td>0.938392</td>\n",
       "      <td>[[6603, 125], [311, 38]]</td>\n",
       "      <td>0.233129</td>\n",
       "      <td>0.108883</td>\n",
       "    </tr>\n",
       "  </tbody>\n",
       "</table>\n",
       "</div>"
      ],
      "text/plain": [
       "    accuracy             confusion_matrix precision recall score\n",
       "0     0.9545     [[6575, 67], [255, 180]]  0.728745     0.413793\n",
       "1   0.638689  [[1681, 2099], [458, 2839]]  0.574929     0.861086\n",
       "10   0.98375       [[6900, 16], [99, 62]]  0.794872     0.385093\n",
       "11  0.919881    [[5960, 199], [368, 550]]  0.734312     0.599129\n",
       "12  0.901088    [[6169, 221], [479, 208]]  0.484848     0.302766\n",
       "13   0.96312     [[6644, 40], [221, 172]]  0.811321     0.437659\n",
       "14  0.970468       [[6862, 32], [177, 6]]  0.157895    0.0327869\n",
       "15   0.95662      [[6722, 41], [266, 48]]  0.539326     0.152866\n",
       "16  0.979652      [[6901, 14], [130, 32]]  0.695652     0.197531\n",
       "17  0.954642      [[6662, 64], [257, 94]]  0.594937     0.267806\n",
       "18   0.85686   [[4696, 614], [399, 1368]]  0.690212     0.774194\n",
       "19  0.982055      [[6820, 28], [99, 130]]  0.822785     0.567686\n",
       "2    0.98375     [[6845, 10], [105, 117]]   0.92126     0.527027\n",
       "20  0.984033       [[6934, 6], [107, 30]]  0.833333     0.218978\n",
       "21  0.982478     [[6830, 14], [110, 123]]   0.89781     0.527897\n",
       "3   0.974848      [[6870, 25], [153, 29]]  0.537037     0.159341\n",
       "4   0.936555    [[6041, 183], [266, 587]]  0.762338     0.688159\n",
       "5   0.805991    [[4789, 690], [683, 915]]  0.570093     0.572591\n",
       "6   0.915218     [[6427, 104], [496, 50]]  0.324675    0.0915751\n",
       "7   0.911968    [[6334, 112], [511, 120]]  0.517241     0.190174\n",
       "8   0.976261      [[6899, 10], [158, 10]]       0.5    0.0595238\n",
       "9   0.938392     [[6603, 125], [311, 38]]  0.233129     0.108883"
      ]
     },
     "execution_count": 19,
     "metadata": {},
     "output_type": "execute_result"
    }
   ],
   "source": [
    "old_scores"
   ]
  },
  {
   "cell_type": "code",
   "execution_count": 20,
   "metadata": {
    "scrolled": true
   },
   "outputs": [
    {
     "data": {
      "text/html": [
       "<div>\n",
       "<style scoped>\n",
       "    .dataframe tbody tr th:only-of-type {\n",
       "        vertical-align: middle;\n",
       "    }\n",
       "\n",
       "    .dataframe tbody tr th {\n",
       "        vertical-align: top;\n",
       "    }\n",
       "\n",
       "    .dataframe thead th {\n",
       "        text-align: right;\n",
       "    }\n",
       "</style>\n",
       "<table border=\"1\" class=\"dataframe\">\n",
       "  <thead>\n",
       "    <tr style=\"text-align: right;\">\n",
       "      <th></th>\n",
       "      <th>accuracy</th>\n",
       "      <th>confusion_matrix</th>\n",
       "      <th>precision</th>\n",
       "      <th>recall score</th>\n",
       "    </tr>\n",
       "  </thead>\n",
       "  <tbody>\n",
       "    <tr>\n",
       "      <th>0</th>\n",
       "      <td>0.940229</td>\n",
       "      <td>[[6255, 387], [36, 399]]</td>\n",
       "      <td>0.507634</td>\n",
       "      <td>0.917241</td>\n",
       "    </tr>\n",
       "    <tr>\n",
       "      <th>1</th>\n",
       "      <td>0.646743</td>\n",
       "      <td>[[1724, 2056], [444, 2853]]</td>\n",
       "      <td>0.581177</td>\n",
       "      <td>0.865332</td>\n",
       "    </tr>\n",
       "    <tr>\n",
       "      <th>10</th>\n",
       "      <td>0.892751</td>\n",
       "      <td>[[6185, 731], [28, 133]]</td>\n",
       "      <td>0.153935</td>\n",
       "      <td>0.826087</td>\n",
       "    </tr>\n",
       "    <tr>\n",
       "      <th>11</th>\n",
       "      <td>0.906316</td>\n",
       "      <td>[[5643, 516], [147, 771]]</td>\n",
       "      <td>0.599068</td>\n",
       "      <td>0.839869</td>\n",
       "    </tr>\n",
       "    <tr>\n",
       "      <th>12</th>\n",
       "      <td>0.869012</td>\n",
       "      <td>[[5655, 735], [192, 495]]</td>\n",
       "      <td>0.402439</td>\n",
       "      <td>0.720524</td>\n",
       "    </tr>\n",
       "    <tr>\n",
       "      <th>13</th>\n",
       "      <td>0.932881</td>\n",
       "      <td>[[6270, 414], [61, 332]]</td>\n",
       "      <td>0.44504</td>\n",
       "      <td>0.844784</td>\n",
       "    </tr>\n",
       "    <tr>\n",
       "      <th>14</th>\n",
       "      <td>0.872686</td>\n",
       "      <td>[[6080, 814], [87, 96]]</td>\n",
       "      <td>0.105495</td>\n",
       "      <td>0.52459</td>\n",
       "    </tr>\n",
       "    <tr>\n",
       "      <th>15</th>\n",
       "      <td>0.879186</td>\n",
       "      <td>[[5941, 822], [33, 281]]</td>\n",
       "      <td>0.25476</td>\n",
       "      <td>0.894904</td>\n",
       "    </tr>\n",
       "    <tr>\n",
       "      <th>16</th>\n",
       "      <td>0.900805</td>\n",
       "      <td>[[6236, 679], [23, 139]]</td>\n",
       "      <td>0.169927</td>\n",
       "      <td>0.858025</td>\n",
       "    </tr>\n",
       "    <tr>\n",
       "      <th>17</th>\n",
       "      <td>0.866893</td>\n",
       "      <td>[[5845, 881], [61, 290]]</td>\n",
       "      <td>0.247652</td>\n",
       "      <td>0.826211</td>\n",
       "    </tr>\n",
       "    <tr>\n",
       "      <th>18</th>\n",
       "      <td>0.847393</td>\n",
       "      <td>[[4553, 757], [323, 1444]]</td>\n",
       "      <td>0.656065</td>\n",
       "      <td>0.817204</td>\n",
       "    </tr>\n",
       "    <tr>\n",
       "      <th>19</th>\n",
       "      <td>0.953087</td>\n",
       "      <td>[[6547, 301], [31, 198]]</td>\n",
       "      <td>0.396794</td>\n",
       "      <td>0.864629</td>\n",
       "    </tr>\n",
       "    <tr>\n",
       "      <th>2</th>\n",
       "      <td>0.954783</td>\n",
       "      <td>[[6552, 303], [17, 205]]</td>\n",
       "      <td>0.403543</td>\n",
       "      <td>0.923423</td>\n",
       "    </tr>\n",
       "    <tr>\n",
       "      <th>20</th>\n",
       "      <td>0.94249</td>\n",
       "      <td>[[6557, 383], [24, 113]]</td>\n",
       "      <td>0.227823</td>\n",
       "      <td>0.824818</td>\n",
       "    </tr>\n",
       "    <tr>\n",
       "      <th>21</th>\n",
       "      <td>0.953087</td>\n",
       "      <td>[[6527, 317], [15, 218]]</td>\n",
       "      <td>0.407477</td>\n",
       "      <td>0.935622</td>\n",
       "    </tr>\n",
       "    <tr>\n",
       "      <th>3</th>\n",
       "      <td>0.927794</td>\n",
       "      <td>[[6428, 467], [44, 138]]</td>\n",
       "      <td>0.228099</td>\n",
       "      <td>0.758242</td>\n",
       "    </tr>\n",
       "    <tr>\n",
       "      <th>4</th>\n",
       "      <td>0.917479</td>\n",
       "      <td>[[5760, 464], [120, 733]]</td>\n",
       "      <td>0.612364</td>\n",
       "      <td>0.85932</td>\n",
       "    </tr>\n",
       "    <tr>\n",
       "      <th>5</th>\n",
       "      <td>0.80147</td>\n",
       "      <td>[[4449, 1030], [375, 1223]]</td>\n",
       "      <td>0.542832</td>\n",
       "      <td>0.765332</td>\n",
       "    </tr>\n",
       "    <tr>\n",
       "      <th>6</th>\n",
       "      <td>0.831284</td>\n",
       "      <td>[[5395, 1136], [58, 488]]</td>\n",
       "      <td>0.300493</td>\n",
       "      <td>0.893773</td>\n",
       "    </tr>\n",
       "    <tr>\n",
       "      <th>7</th>\n",
       "      <td>0.880599</td>\n",
       "      <td>[[5752, 694], [151, 480]]</td>\n",
       "      <td>0.408859</td>\n",
       "      <td>0.760697</td>\n",
       "    </tr>\n",
       "    <tr>\n",
       "      <th>8</th>\n",
       "      <td>0.928501</td>\n",
       "      <td>[[6432, 477], [29, 139]]</td>\n",
       "      <td>0.225649</td>\n",
       "      <td>0.827381</td>\n",
       "    </tr>\n",
       "    <tr>\n",
       "      <th>9</th>\n",
       "      <td>0.86661</td>\n",
       "      <td>[[5852, 876], [68, 281]]</td>\n",
       "      <td>0.242869</td>\n",
       "      <td>0.805158</td>\n",
       "    </tr>\n",
       "  </tbody>\n",
       "</table>\n",
       "</div>"
      ],
      "text/plain": [
       "    accuracy             confusion_matrix precision recall score\n",
       "0   0.940229     [[6255, 387], [36, 399]]  0.507634     0.917241\n",
       "1   0.646743  [[1724, 2056], [444, 2853]]  0.581177     0.865332\n",
       "10  0.892751     [[6185, 731], [28, 133]]  0.153935     0.826087\n",
       "11  0.906316    [[5643, 516], [147, 771]]  0.599068     0.839869\n",
       "12  0.869012    [[5655, 735], [192, 495]]  0.402439     0.720524\n",
       "13  0.932881     [[6270, 414], [61, 332]]   0.44504     0.844784\n",
       "14  0.872686      [[6080, 814], [87, 96]]  0.105495      0.52459\n",
       "15  0.879186     [[5941, 822], [33, 281]]   0.25476     0.894904\n",
       "16  0.900805     [[6236, 679], [23, 139]]  0.169927     0.858025\n",
       "17  0.866893     [[5845, 881], [61, 290]]  0.247652     0.826211\n",
       "18  0.847393   [[4553, 757], [323, 1444]]  0.656065     0.817204\n",
       "19  0.953087     [[6547, 301], [31, 198]]  0.396794     0.864629\n",
       "2   0.954783     [[6552, 303], [17, 205]]  0.403543     0.923423\n",
       "20   0.94249     [[6557, 383], [24, 113]]  0.227823     0.824818\n",
       "21  0.953087     [[6527, 317], [15, 218]]  0.407477     0.935622\n",
       "3   0.927794     [[6428, 467], [44, 138]]  0.228099     0.758242\n",
       "4   0.917479    [[5760, 464], [120, 733]]  0.612364      0.85932\n",
       "5    0.80147  [[4449, 1030], [375, 1223]]  0.542832     0.765332\n",
       "6   0.831284    [[5395, 1136], [58, 488]]  0.300493     0.893773\n",
       "7   0.880599    [[5752, 694], [151, 480]]  0.408859     0.760697\n",
       "8   0.928501     [[6432, 477], [29, 139]]  0.225649     0.827381\n",
       "9    0.86661     [[5852, 876], [68, 281]]  0.242869     0.805158"
      ]
     },
     "execution_count": 20,
     "metadata": {},
     "output_type": "execute_result"
    }
   ],
   "source": [
    "scores"
   ]
  },
  {
   "cell_type": "code",
   "execution_count": 29,
   "metadata": {},
   "outputs": [
    {
     "name": "stdout",
     "output_type": "stream",
     "text": [
      "Pour 50 estimateurs on obtient un score de : 0.122\n"
     ]
    }
   ],
   "source": [
    "labels_predicted = []\n",
    "for v in y_train.columns:\n",
    "    labels_predicted.append(dict_prediction[v]['predicted'])\n",
    "\n",
    "labels_predicted = pd.DataFrame(labels_predicted).transpose()\n",
    "\n",
    "print('Pour {} estimateurs on obtient un score de : {:4.3f}'.format(50,accuracy_score(y_test, labels_predicted)))\n"
   ]
  },
  {
   "cell_type": "markdown",
   "metadata": {},
   "source": [
    "## Conclusion du modèle de Machine Learning avec Bag of Words\n",
    "\n",
    "Les résultats sont plutôt décevants. Si on arrive à améliorer les résultats de la classification multi-label en effectuant quelques optimisations simples, le gain reste très léger.\n",
    "\n",
    "L'approche par les bag of words ne semble donc pas particulièrement efficace dans ce contexte. Nous allons donc essayer une approche par word2vec."
   ]
  },
  {
   "cell_type": "markdown",
   "metadata": {},
   "source": [
    "# Modèle de Machine Learning avec Word2vec \"simpliste\"\n",
    "\n",
    "L'approche \"bag of words\" consiste à résumer un texte en un vecteur. Cela peut sembler assez réducteur dans le sens où l'on perd complètement le sens des mots : on ne s'occupe que de leur occurrence.\n",
    "\n",
    "L'approche \"word2vec\", elle, permet de prendre en compte le sens des mots en associant à chaque mot un vecteur, ce qui permet à l'ordinateur de le positionner par rapport aux autres mots, et d'en déduire une sorte de \"sens\"\n",
    "\n",
    "Pour cela, il faut transformer les phrases en liste de mots, puis récupérer dans une liste l'ensemble des phrases transformées en liste.\n",
    "\n",
    "On va donc créer une classe Text2vec() qui prendra en paramètre une liste de textes et qui renverra un objet contenant le model word2vec que l'on a entraîné, et qui transformera les mots des futurs textes en vecteurs.\n",
    "\n",
    "Dans cette partie on considèrera que le vecteur représentant un texte est la somme des Word2vec de chaque mot."
   ]
  },
  {
   "cell_type": "code",
   "execution_count": 23,
   "metadata": {
    "collapsed": true
   },
   "outputs": [],
   "source": [
    "class Text2vec():\n",
    "    def __init__(self, list_text):\n",
    "        self.model = gensim.models.Word2Vec(self.lines(list_text))\n",
    "    \n",
    "    def lines(self, list_text):\n",
    "        #We transform a list of text into a list of phrases, where phrases are a list of words.\n",
    "        return [phrase.split() for text in list_text for phrase in text.split('.') if len(phrase)>3]\n",
    "    \n",
    "    def word2vec(self,word):\n",
    "        #Transform a word into a word2vec.\n",
    "        #If the word is not known by our model the function returns a vector with zeros.\n",
    "        if word in self.model.wv.vocab.keys() :\n",
    "            res = self.model.wv.word_vec(word)\n",
    "        else :\n",
    "            res = np.zeros(self.model.vector_size)\n",
    "        return res\n",
    "    \n",
    "    def transform_text(self,text):\n",
    "        #Takes in parameter a text and return a vector, that is the sum of all word2vec.\n",
    "        l_word = text.split()\n",
    "        l_vec = [self.word2vec(w) for w in l_word]\n",
    "        text_vec = np.sum(l_vec,0)\n",
    "        return text_vec\n",
    "    \n",
    "    def transform(self,list_text):\n",
    "        return [self.transform_text(t) for t in list_text]"
   ]
  },
  {
   "cell_type": "code",
   "execution_count": 24,
   "metadata": {
    "collapsed": true
   },
   "outputs": [],
   "source": [
    "def clean_w2v(t, stop = stop):\n",
    "    t = re.sub(\"[^a-z.]\",\" \",t.lower())#keeping only letters and '.' since we need to split by phrases.\n",
    "    l_t = t.split('.')\n",
    "    new_l_t = []\n",
    "    for phrase in l_t :\n",
    "        new_phrase = []\n",
    "        for w in phrase.split():\n",
    "            #Stemmers remove morphological affixes from words\n",
    "            new_w = stemmer.stem(w)\n",
    "            if len(new_w) > 3 and new_w not in stop :\n",
    "                new_phrase.append(new_w)\n",
    "        if new_phrase :\n",
    "            new_l_t.append(' '.join(new_phrase))\n",
    "    return '.'.join(new_l_t)"
   ]
  },
  {
   "cell_type": "code",
   "execution_count": 25,
   "metadata": {
    "collapsed": true
   },
   "outputs": [],
   "source": [
    "X_train_w2v = preprocessing_train(text_train, clean = clean_w2v)\n",
    "y_train_w2v = y_train.copy()\n",
    "X_test_w2v = X_test.copy()\n",
    "y_test_w2v = y_test.copy()"
   ]
  },
  {
   "cell_type": "code",
   "execution_count": 26,
   "metadata": {},
   "outputs": [
    {
     "name": "stdout",
     "output_type": "stream",
     "text": [
      "Pour 50 estimateurs on obtient un score de : 0.231\n"
     ]
    }
   ],
   "source": [
    "n_est = 50\n",
    "rfc = RFC(n_estimators=n_est, n_jobs = -1)\n",
    "\n",
    "t2v = Text2vec(X_train_w2v['text'])\n",
    "x_train = t2v.transform(X_train_w2v['text'])\n",
    "rfc.fit(x_train,y_train_w2v)\n",
    "x_test = t2v.transform(X_test_w2v['text'])\n",
    "print('Pour {} estimateurs on obtient un score de : {:4.3f}'.format(n_est,rfc.score(x_test,y_test)))"
   ]
  },
  {
   "cell_type": "markdown",
   "metadata": {},
   "source": [
    "## Conclusion du modèle de Machine Learning avec Word2vec \"simpliste\"\n",
    "\n",
    "Conclusion  Le score est donc sensiblement le même que les scores des résultats précédents (avec 50 estimateurs : 0,231 et 0.211). Le passage aux Word2vec n'est donc pas suffisant. Néanmoins, il est vrai que notre hypothèse de considérer le vecteur d'un texte comme la somme des word2vec de ses mots est très simpliste.\n",
    "\n",
    "Nous avons donc essayé une autre manière de modéliser un texte par un vecteur à l'aide des Word2vec."
   ]
  },
  {
   "cell_type": "markdown",
   "metadata": {},
   "source": [
    "# Modèle de Machine Learning avec Word2vec, ACP et classification\n",
    "\n",
    "## Préprocessing word2vec\n",
    "\n",
    "L'idée générale de ce préprocessing est de récupérer la position de chacun des mots du texte au sein du dictionnaire word2vec construit par google, puis de traiter celles-ci pour pouvoir appliquer des algorithmes de machine learning.\n",
    "\n",
    "Le traitement consistera, notamment, en une ACP, afin de réduire la taille de chacun des vecteurs, puis une classification, pour ne récupérer que les éléments les plus caractéristiques de chaque classe. \n",
    "\n",
    "Chaque texte est donc finalement représentés par les vecteurs (de dimension 10, valeur arbitraire choisie pour la suite) des centres de gravités des 10 classes les plus importantes, sur lesquels nous menons l'analyse.\n",
    "\n",
    "L'ACP est menée préalablement sur l'ensemble des mots uniques de tous les textes ; chaque mot est ensuite projeté dans cette base.\n",
    "\n",
    "L'algorithme de machine learning reçoit les vecteurs ordonnés dans l'ordre suivant : celui représentant la classe la plus peuplée est donné en premier, celui représentant la classe la moins peuplée en dernier.\n",
    "\n",
    "### Traitement des mots attachés\n",
    "\n",
    "Le fait d'utiliser pour notre analyse un dictionnaire word2vec extérieur au lieu de construire le nôtre nous place face à une problématique nouvelle : nous ne pouvons désormais plus conserver les mots \"collés\" ensemble tel quels, car ils ne sont pas présent dans le dictionnaire extérieur. Nous avons choisis de tenter de les exploiter quand même. \n",
    "\n",
    "Pour ce faire, nous avons donc construit une fonction (split_words) qui tente de découper les chaînes de caractères non présentes dans le dictionnaire google en mots valables. Le principe en est détaillé ci-dessous\n",
    "\n",
    "Plus généralement, le but de ce bloc est de supprimer des textes les mots incompréhensibles par le dictionnaire, et d'associer à chaque texte, c'est-à-dire à chaque liste de mots, la liste de coordonnées associée dans le dictionnaire extérieur. C'est ce qu'effectue la fonction \"google_words\".\n",
    "\n",
    "Certains mots sont collés les uns aux autres, du genre \"messagepassengerairplane\", que nous\n",
    "cherchons avec la fonction suivante à décomposer en [\"message\",\"passenger\",\"airplane\"].\n",
    "\n",
    "Principe de fonctionnement :\n",
    "\n",
    "la fonction cherche à repérer dans la chaine de caractère,les mots considérés \"valables\"\n",
    "(ie présents dans le dictionnaire word2vec de google). Nous avons remarqués que ces mots sont presque uniquement\n",
    "une concaténation de mots de plus de 4 lettres, donc nous ne considérons dans notre recherche que d'éventuels \n",
    "mots comprenants entre 4 et 20 lettres.\n",
    "\n",
    "\n",
    "pour \"messagepassenger\", l'algorithme commence à recherche tous les mots reconnus par le dictionnaire de google\n",
    "comprenant entre 4 et 20 lettres, commençant du début de la string. Il effectue :\n",
    "\n",
    "<br>mess True\n",
    "<br>messa False\n",
    "<br>messag False\n",
    "<br>message True\n",
    "<br>messagep False\n",
    "<br>messagepa False\n",
    "<br>messagepas False\n",
    "<br>messagepass False\n",
    "<br>messagepasse False\n",
    "<br>messagepassen False\n",
    "<br>messagepasseng False\n",
    "<br>messagepassenge False\n",
    "<br>messagepassenger False\n",
    "\n",
    "et retient donc : \n",
    "\n",
    "[\"mess\",\"message\"].\n",
    "\n",
    "L'algorithme est ensuite récursif : il prend le mot le plus long de la liste précédente, puis analyse la chaîne\n",
    "de caractère restante, privée de ce mot.\n",
    "\n",
    "Dans l'exemple, il ôte \"message\" de \"messagepassenger\" et analyse \"passenger\".\n",
    "\n",
    "L'algorithme s'arrête quand il rencontre une liste vide suite à une élimination d'un mot valable de la liste.\n",
    "Si à un moment, toutes les combinaisons analysées sont des mots non valables, l'algorithme revient en arrière\n",
    "et considère la chaîne privée du deuxième mot le plus long, puis du troisième, ...\n",
    "\n",
    "Si par exemple, l'algorithme doit analyser \"personairplane\", il obtient d'abord la liste :\n",
    "\n",
    "[\"p\",\"pe\",\"per\",\"pers\",\"perso\",\"person\",\"persona\"]\n",
    "\n",
    "Il conserve donc \"persona\" et analyse \"irplane\". Toutefois,l'analyse de \"irplane\" ne donne rien. Il ne conserve\n",
    "donc plus que \"person\" et analyse \"airplane\". \"airplane\" étant présent dans le dictionnaire, il termine.\n",
    "\n",
    "Si l'algorithme ne trouve aucune combinaison valable, le mot ne sera pas considéré dans l'analyse (il renvoie\n",
    "dans ce cas là une liste vide)"
   ]
  },
  {
   "cell_type": "code",
   "execution_count": 27,
   "metadata": {
    "collapsed": true
   },
   "outputs": [],
   "source": [
    "def split_words(badword):\n",
    "    #liste des mots retenus par l'algorithme dans son analyse\n",
    "    l = []\n",
    "    \n",
    "    min_len_mot = 4\n",
    "    max_len_mot = 20\n",
    "    \n",
    "    for i in range(min_len_mot,min(max_len_mot,len(badword))):\n",
    "        if badword[:i+1] in google.wv.vocab:\n",
    "            l.append(badword[:i+1])\n",
    "            \n",
    "    while True:\n",
    "        # Tant que des mots sont présents dans la liste\n",
    "        if l:\n",
    "            \n",
    "            #On prend le mot le plus long\n",
    "            a = l.pop()\n",
    "            \n",
    "            #On l'enlève de la chaîne de caractère\n",
    "            aftera = badword[len(a):]\n",
    "            \n",
    "            #Si il y a un reste, on applique l'algorithme au reste de la chaîne\n",
    "            if aftera:\n",
    "                newl = split_words(aftera)\n",
    "                return(newl+[a])   \n",
    "            #Sinon, c'est qu'on a fini l'analyse, et que celle-ci a réussi : on retourne donc le dernier mot\n",
    "            else:   \n",
    "                return([a])\n",
    "        else:\n",
    "            return([])\n",
    "        #Dans le cas où la liste est vide, on renvoie une liste vide."
   ]
  },
  {
   "cell_type": "markdown",
   "metadata": {},
   "source": [
    "Grâce à cette fonction on va pouvoir nettoyer un peu plus notre texte. On ne gardera que les mots reconnu par le model entraîné de Google, et ceux qui ne sont pas reconnus seront soumis à l'algorithme de séparation."
   ]
  },
  {
   "cell_type": "code",
   "execution_count": 31,
   "metadata": {},
   "outputs": [],
   "source": [
    "def google_words(l_t, google = google):\n",
    "    #Liste des mots valables\n",
    "    new_t = []\n",
    "    #Liste des coordonnées du word2vec google associés à ces mots\n",
    "    w2v = []\n",
    "    for w in l_t :\n",
    "        \n",
    "        #Si le mot est reconnu par le dictionnaire de google,  on l'ajoute à la liste des mots reconnus\n",
    "        if w in google.wv.vocab.keys() :\n",
    "            new_t.append(w)\n",
    "        else :\n",
    "        #Sinon, c'est peut-être qu'ils s'agit de mots collés : on tente d'appliquer l'algorithme de décollage\n",
    "            new_t += split_words(w)\n",
    "            \n",
    "    #On construit finalement la liste des mots \n",
    "    for w in new_t:\n",
    "        w2v.append(google[w])\n",
    "    return new_t,w2v\n",
    "\n",
    "\n",
    "\n",
    "X_train[\"result\"] = X_train['text'].apply(google_words)\n",
    "X_test[\"result\"] = X_test['text'].apply(google_words)"
   ]
  },
  {
   "cell_type": "markdown",
   "metadata": {},
   "source": [
    "### Construction d'une liste des mots présents dans l'ensemble du texte et ACP\n",
    "\n",
    "Chaque mot est représenté dans le dictionnaire google par un vecteur d'environ 300 coordonnées. C'est beaucoup trop pour mener à bien et de manière efficace une classification ascendante hiérarchique. Toutefois, nous souhaiterions garder autant que possible la cohérence de la classification du dictionnaire.\n",
    "Nous cherchons donc à représenter par les mots par un plus petit nombre d'indicateurs (10), en conservant autant que possible la pertinence de la classification du dictionnaire.\n",
    "\n",
    "Le résultat d'une analyse en composante principale (ACP) semble répondre au cahier des charges. Toutefois, il faut alors prendre une base commune, dans laquelle tous les mots de tous les textes seront projetés. \n",
    "\n",
    "Pour constituer cette base, nous ne choisissons pas de prendre le résultat d'une ACP sur tous les mots de tous les textes (il y en a environ 2 millions, beaucoup trop donc : la complexité de l'algorithme serait en O(2000000²x300) d'opérations, soit environ 1,2x10^15 opérations, beaucoup trop pour un ordinateur portable. Nous choisissons donc de prendre le résultat de l'ACP sur tous les mots uniques (environ 20 000, beaucoup plus abordable)\n",
    "\n",
    "Cela explique la construction de google_unique_word, rassemblant les coordonnées des mots uniques de tous les textes"
   ]
  },
  {
   "cell_type": "code",
   "execution_count": 32,
   "metadata": {
    "collapsed": true
   },
   "outputs": [],
   "source": [
    "#dans la colonne \"new text\", on retrouve les mots valables, et dans la colonne \"w2v\" la liste des coordonnées \n",
    "#associées\n",
    "\n",
    "X_train[\"new text\"],X_train[\"w2v\"] = X_train['result'].apply(lambda x : x[0]),X_train['result'].apply(lambda x : x[1])\n",
    "X_test[\"new text\"],X_test[\"w2v\"] = X_test['result'].apply(lambda x : x[0]),X_test['result'].apply(lambda x : x[1])\n",
    "\n",
    "#On construit une liste regroupant tous les mots valables de tous les textes\n",
    "words_train = [v for text in X_train['new text'] for v in  text]\n",
    "    \n",
    "#On construit ensuite la liste des mots uniques, ainsi que leurs coordonnées associées, en vue d'effectuer l'ACP\n",
    "unique_words = set(words_train)\n",
    "google_unique_words = [google[w] for w in unique_words]"
   ]
  },
  {
   "cell_type": "code",
   "execution_count": 33,
   "metadata": {},
   "outputs": [
    {
     "name": "stderr",
     "output_type": "stream",
     "text": [
      "C:\\Users\\Simon\\AppData\\Local\\conda\\conda\\envs\\my_root\\lib\\site-packages\\ipykernel_launcher.py:10: SettingWithCopyWarning: \n",
      "A value is trying to be set on a copy of a slice from a DataFrame.\n",
      "Try using .loc[row_indexer,col_indexer] = value instead\n",
      "\n",
      "See the caveats in the documentation: http://pandas.pydata.org/pandas-docs/stable/indexing.html#indexing-view-versus-copy\n",
      "  # Remove the CWD from sys.path while we load stuff.\n"
     ]
    }
   ],
   "source": [
    "#Préparation et entraînement de l'ACP\n",
    "pca = PCA(n_components = 10);\n",
    "pca.fit(np.array(google_unique_words))\n",
    "\n",
    "#On projette les coordonnées de tous les vecteurs dans le plan de l'ACP\n",
    "#Note : ici, en vue de la classification, on ne retient que les textes de plus de 10 mots (pour avoir par la \n",
    "#suite 10 classes)\n",
    "\n",
    "X_pca = X_train[X_train[\"w2v\"].apply(lambda x : len(x) > 10)]\n",
    "X_pca[\"pca\"] = X_pca[\"w2v\"].apply(pca.transform)\n",
    "\n",
    "X_test_pca = X_test[X_test[\"w2v\"].apply(lambda x : len(x) > 10)]\n",
    "X_test_pca[\"pca\"] = X_test_pca[\"w2v\"].apply(pca.transform)"
   ]
  },
  {
   "cell_type": "markdown",
   "metadata": {},
   "source": [
    "### Classification Ascendante Hiérarchique\n",
    "\n",
    "Plusieurs choses justifient l'utilisation d'une Classification Ascendante Hiérarchique. Deux importants prérequis \n",
    "\n",
    "- Il faut trouver un moyen de \"standardiser\" le nombre d'informations contenues dans chaque texte : il faut être capable de comparer un texte de 134 mots avec un texte de 56 mots.\n",
    "- L'information doit garder au maximum la cohérence du dictionnaire word2vec\n",
    "\n",
    "La classification répond à ces deux problématiques. Premièrement elle permet de résumer en un nombre constant de paramètre l'information, puisqu'on peut fixer le nombre de classes que l'on souhaite avoir. Deuxièmement, le fait d'utiliser comme indicateur les centres de gravité de chaque classe, on s'assure d'avoir extrait une partie importante de l'information contenue dans le texte. \n",
    "\n",
    "On peut toutefois remarquer que cela ne permet pas forcément d'identifier ce qui fait la spécificité d'un texte relativement aux autres : trop de mots courants peuvent toujours polluer l'analyse\n",
    "\n",
    "De plus, le choix que nous avons fait de donner comme paramètres de prédiction à l'algorithme la liste des coordonnées des centre de classes, ordonnée par ordre décroissant de population dans la classe, est contestable.\n",
    "\n",
    "En effet, il pourrait sans doute être plus pertinent de comparer entre elles les classes dont la distance dans le plan est proche que des classes semblables par leur taux de population."
   ]
  },
  {
   "cell_type": "code",
   "execution_count": 34,
   "metadata": {
    "collapsed": true
   },
   "outputs": [],
   "source": [
    "def to_codebook(X, part):\n",
    "    #Note : fonction trouvée sur StackOverflow\n",
    "    \"\"\"\n",
    "    Calculates centroids according to flat cluster assignment\n",
    "\n",
    "    Parameters\n",
    "    ----------\n",
    "    X : array, (n, d)\n",
    "        The n original observations with d features\n",
    "\n",
    "    part : array, (n)\n",
    "        Partition vector. p[n]=c is the cluster assigned to observation n\n",
    "\n",
    "    Returns\n",
    "    -------\n",
    "    codebook : array, (k, d)\n",
    "        Returns a k x d codebook with k centroids\n",
    "    \"\"\"\n",
    "    codebook = []\n",
    "\n",
    "    for i in range(part.min(), part.max()+1):\n",
    "        codebook.append(X[part == i].mean(0))\n",
    "    \n",
    "    return np.vstack(codebook)\n",
    "\n",
    "def sorting(centroids,lindex):\n",
    "    \"\"\"\n",
    "    fonction prenant en argument :\n",
    "    \n",
    "    - la liste des coordonnées des centres de classes (centroids)\n",
    "    - l'index reliant chaque point à sa classe\n",
    "    \n",
    "    renvoie :\n",
    "    \n",
    "    - la liste des coordonnées des centre de classes, ordonnée par ordre décroissant de population dans la classe\n",
    "    \"\"\"\n",
    "    \n",
    "    #dictionnaire donnant le nombre d'éléments présents dans chaque classe\n",
    "    counter = Counter(lindex)\n",
    "    #convertit le dictionnaire créé en liste en vue d'un tri\n",
    "    counter_list = list(counter.items())\n",
    "    #Fonction clé utilisée pour le tri (il faut comparer les valeurs des deuxièmes éléments de chaque\n",
    "    #tuple)\n",
    "    def cmpval(x):\n",
    "        return(x[1])\n",
    "    #Tri de la liste\n",
    "    counter_list.sort(key = cmpval)\n",
    "    #On récupère la liste triée des classes (plus besoin du nombre d'éléments dans chaque classe)\n",
    "    sorted_class = [k[0] for k in counter_list]\n",
    "    #Liste qui contiendra la liste triée des coordonnées des centres de gravité\n",
    "    sorted_centroids = []\n",
    "    for i in range(len(sorted_class)):\n",
    "        j = sorted_class.index(i)\n",
    "        sorted_centroids.append(centroids[j])\n",
    "    \n",
    "    return(sorted_centroids)\n",
    "\n",
    "def cah(lv):\n",
    "    #Constructiond de la matrice de lien\n",
    "    Z = linkage(lv,method='ward',metric='euclidean')\n",
    "    #Coupure de l'arbre de façon à obtenir 10 classes \n",
    "    #cutree[i] : classe du i-ème élément. (en fait, pour des raisons pratiques, cutree est une liste de liste\n",
    "    #que l'on aplatit)\n",
    "    cutree = scipy.cluster.hierarchy.cut_tree(Z, n_clusters=[10])\n",
    "    cutree_flat = np.asarray([item for sublist in cutree for item in sublist])\n",
    "    #On calcule les centres de gravité\n",
    "    centroids = to_codebook(lv,cutree_flat)\n",
    "    #On retourne une liste aplatie contenant les résultats de la classification\n",
    "    return([item for sublist in sorting(centroids,cutree_flat) for item in sublist])"
   ]
  },
  {
   "cell_type": "code",
   "execution_count": 35,
   "metadata": {},
   "outputs": [
    {
     "data": {
      "image/png": "[encoded data removed]",
      "text/plain": [
       "<matplotlib.figure.Figure at 0x2b68126a4e0>"
      ]
     },
     "metadata": {},
     "output_type": "display_data"
    }
   ],
   "source": [
    "#affichage du dendrogramme\n",
    "Z = linkage(X_pca[\"pca\"][0],method='ward',metric='euclidean')\n",
    "plt.title(\"CAH\")\n",
    "dendrogram(Z,orientation='left',color_threshold=0)\n",
    "plt.show()"
   ]
  },
  {
   "cell_type": "code",
   "execution_count": 41,
   "metadata": {},
   "outputs": [
    {
     "name": "stderr",
     "output_type": "stream",
     "text": [
      "C:\\Users\\Simon\\AppData\\Local\\conda\\conda\\envs\\my_root\\lib\\site-packages\\ipykernel_launcher.py:3: SettingWithCopyWarning: \n",
      "A value is trying to be set on a copy of a slice from a DataFrame.\n",
      "Try using .loc[row_indexer,col_indexer] = value instead\n",
      "\n",
      "See the caveats in the documentation: http://pandas.pydata.org/pandas-docs/stable/indexing.html#indexing-view-versus-copy\n",
      "  This is separate from the ipykernel package so we can avoid doing imports until\n"
     ]
    },
    {
     "name": "stdout",
     "output_type": "stream",
     "text": [
      "done !\n",
      "done\n"
     ]
    }
   ],
   "source": [
    "#On calcule pour chaque texte les 10 centres de gravité associés\n",
    "\n",
    "X_pca[\"cah\"] = X_pca[\"pca\"].apply(cah)\n",
    "print(\"done !\")\n",
    "X_test_pca[\"cah\"] = X_test_pca[\"pca\"].apply(cah)\n",
    "print(\"done\")\n",
    "\n",
    "#Une sauvegarde des résultats est possible\n",
    "#X_pca[\"cah\"].to_csv(dire + \"dataframe_train_fin.csv\")\n",
    "#X_test_pca[\"cah\"].to_csv(dire + \"dataframe_test_fin.csv\")"
   ]
  },
  {
   "cell_type": "markdown",
   "metadata": {},
   "source": [
    "## Machine Learning\n",
    "\n",
    "Nous appliquons donc maintenant un algorithme de Machine Learning prenant en entrée les variables de prédiction précédemment construites"
   ]
  },
  {
   "cell_type": "code",
   "execution_count": 42,
   "metadata": {
    "collapsed": true
   },
   "outputs": [],
   "source": [
    "#Préparation des données\n",
    "\n",
    "y_test = y_test.loc[X_test_pca.index]\n",
    "y_train = y_train.loc[X_pca.index]\n",
    "\n",
    "X_train_for_ml = [t for t in X_pca['cah'].as_matrix()]\n",
    "X_test_for_ml = [t for t in X_test_pca['cah'].as_matrix()]"
   ]
  },
  {
   "cell_type": "code",
   "execution_count": 43,
   "metadata": {},
   "outputs": [
    {
     "data": {
      "text/plain": [
       "RandomForestClassifier(bootstrap=True, class_weight=None, criterion='gini',\n",
       "            max_depth=None, max_features='auto', max_leaf_nodes=None,\n",
       "            min_impurity_decrease=0.0, min_impurity_split=None,\n",
       "            min_samples_leaf=1, min_samples_split=2,\n",
       "            min_weight_fraction_leaf=0.0, n_estimators=200, n_jobs=-1,\n",
       "            oob_score=False, random_state=None, verbose=0,\n",
       "            warm_start=False)"
      ]
     },
     "execution_count": 43,
     "metadata": {},
     "output_type": "execute_result"
    }
   ],
   "source": [
    "#Construction et entraînement de l'algorithme\n",
    "\n",
    "model = RFC(n_estimators = 200,n_jobs = -1)\n",
    "model.fit(X_train_for_ml,y_train)"
   ]
  },
  {
   "cell_type": "markdown",
   "metadata": {},
   "source": [
    "### Analyse des résultats\n",
    "\n",
    "L'analyse de la prédiction multi-classe (ci-dessous) nous donne des résultats médiocres, par rapport aux résultats obtenus par le preprocessing de type \"bag of word\". "
   ]
  },
  {
   "cell_type": "code",
   "execution_count": 44,
   "metadata": {},
   "outputs": [
    {
     "data": {
      "text/plain": [
       "0.080966511233573554"
      ]
     },
     "execution_count": 44,
     "metadata": {},
     "output_type": "execute_result"
    }
   ],
   "source": [
    "#Calcul du score de prédiction multi-classes\n",
    "model.score(X_test_for_ml,y_test)"
   ]
  },
  {
   "cell_type": "markdown",
   "metadata": {},
   "source": [
    "En regardant de plus près les matrices de confusion, on s'aperçoit qu'une partie non négligeable des prédicteurs sont des constantes égales à zéro."
   ]
  },
  {
   "cell_type": "code",
   "execution_count": 45,
   "metadata": {},
   "outputs": [
    {
     "name": "stdout",
     "output_type": "stream",
     "text": [
      "0 0.0781609195402\n",
      "[[6627  401]\n",
      " [  15   34]]\n",
      "1 0.925690021231\n",
      "[[ 678  245]\n",
      " [3102 3052]]\n",
      "2 0.279279279279\n",
      "[[6848  160]\n",
      " [   7   62]]\n",
      "3 0.0714285714286\n",
      "[[6881  169]\n",
      " [  14   13]]\n",
      "4 0.440797186401\n",
      "[[5973  477]\n",
      " [ 251  376]]\n",
      "5 0.103879849812\n",
      "[[5128 1432]\n",
      " [ 351  166]]\n",
      "6 0.0457875457875\n",
      "[[6472  521]\n",
      " [  59   25]]\n",
      "7 0.0507131537242\n",
      "[[6376  599]\n",
      " [  70   32]]\n",
      "8 0.0595238095238\n",
      "[[6902  158]\n",
      " [   7   10]]\n",
      "9 0.0744985673352\n",
      "[[6648  323]\n",
      " [  80   26]]\n",
      "10 0.155279503106\n",
      "[[6907  136]\n",
      " [   9   25]]\n",
      "11 0.0501089324619\n",
      "[[6088  872]\n",
      " [  71   46]]\n",
      "12 0.0625909752547\n",
      "[[6300  644]\n",
      " [  90   43]]\n",
      "13 0.0737913486005\n",
      "[[6675  364]\n",
      " [   9   29]]\n",
      "14 0.016393442623\n",
      "[[6874  180]\n",
      " [  20    3]]\n",
      "15 0.0828025477707\n",
      "[[6741  288]\n",
      " [  22   26]]\n",
      "16 0.141975308642\n",
      "[[6908  139]\n",
      " [   7   23]]\n",
      "17 0.0854700854701\n",
      "[[6685  321]\n",
      " [  41   30]]\n",
      "18 0.110356536503\n",
      "[[4911 1572]\n",
      " [ 399  195]]\n",
      "19 0.135371179039\n",
      "[[6838  198]\n",
      " [  10   31]]\n",
      "20 0.014598540146\n",
      "[[6936  135]\n",
      " [   4    2]]\n",
      "21 0.188841201717\n",
      "[[6829  189]\n",
      " [  15   44]]\n"
     ]
    }
   ],
   "source": [
    "#Matrice de confusion et précision (vrais positifs / vrais positifs + faux positifs)\n",
    "from sklearn.metrics import confusion_matrix\n",
    "for i in range(22):\n",
    "    model.fit(X_train_for_ml,y_train[str(i)])\n",
    "    X_predict = model.predict(X_test_for_ml)\n",
    "    mat = confusion_matrix(X_predict,y_test[str(i)])\n",
    "    sco = mat[1,1]/(mat[1,1] + mat[0,1])\n",
    "    print(i,sco)\n",
    "    print(mat)"
   ]
  },
  {
   "cell_type": "markdown",
   "metadata": {},
   "source": [
    "# Conclusion\n",
    "\n",
    "Notre but était de prédire les labels correspondants à chaque texte du corpus du challenge SIAM 2007. Nous avons essayé 2 modélisations de textes différentes, les bag of words et les word2vec, et nous avons essayé 2 méthodes d'application d'algorithme de Machine Learning sur chacune de ces modélisations. Les résultats sont semblables, et faibles, à l'exception des résultats encore plus faibles du Machine Learning avec word2vec, ACP et classification.\n",
    "\n",
    "Ces résultats peu satisfaisants peuvent s'expliquer par le fait que nous disposons, pour beaucoup de label, que de peu d'échantillons positifs, ce qui rend l'apprentissage difficile.\n",
    "\n",
    "La dernière méthode, bien que donnant les moins bons résultats, semble être la plus prometteuse dans le sens où l'on peu aller plus loin dans l'optimisation des paramètres.\n",
    "Ainsi, au lieu de réduire la classification à 10 élèments on pourrait en augmenter le nombre, et on pourrait faire un \"mix\" de la méthode \"word2vec simpliste\" et \"word2vec, ACP et classification\", en entraînant un word2vec sur notre corpus puis en utilisant une ACP et une classification.\n"
   ]
  }
 ],
 "metadata": {
  "kernelspec": {
   "display_name": "Python 3",
   "language": "python",
   "name": "python3"
  },
  "language_info": {
   "codemirror_mode": {
    "name": "ipython",
    "version": 3
   },
   "file_extension": ".py",
   "mimetype": "text/x-python",
   "name": "python",
   "nbconvert_exporter": "python",
   "pygments_lexer": "ipython3",
   "version": "3.7.6"
  }
 },
 "nbformat": 4,
 "nbformat_minor": 2
}
