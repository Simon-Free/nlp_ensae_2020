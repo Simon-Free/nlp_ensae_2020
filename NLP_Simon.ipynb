{
 "cells": [
  {
   "cell_type": "code",
   "execution_count": 28,
   "metadata": {},
   "outputs": [
    {
     "name": "stderr",
     "output_type": "stream",
     "text": [
      "[nltk_data] Downloading package stopwords to\n",
      "[nltk_data]     C:\\Users\\Valentin\\AppData\\Roaming\\nltk_data...\n",
      "[nltk_data]   Package stopwords is already up-to-date!\n"
     ]
    }
   ],
   "source": [
    "import numpy as np\n",
    "import pandas as pd\n",
    "import matplotlib.pyplot as plt\n",
    "import matplotlib.pyplot as plt\n",
    "%matplotlib inline\n",
    "from scipy.cluster.hierarchy import dendrogram, linkage\n",
    "import numpy as np\n",
    "import scipy\n",
    "from sklearn.ensemble import RandomForestClassifier as RFC\n",
    "from sklearn.svm import SVC\n",
    "\n",
    "#Metrics\n",
    "from sklearn.metrics import precision_score # tp      / ( tp + fp )\n",
    "from sklearn.metrics import accuracy_score  # tp + tn / ( tp + fp + tn + fn  ) \n",
    "from sklearn.metrics import recall_score    # tp      / ( tp + fn )\n",
    "from sklearn.metrics import confusion_matrix\n",
    "\n",
    "dict_score = {'precision' : precision_score, 'accuracy' : accuracy_score,\\\n",
    "              'recall score' : recall_score, \\\n",
    "              'confusion_matrix' : confusion_matrix}\n",
    "\n",
    "#Bag of words\n",
    "from sklearn.feature_extraction.text import TfidfVectorizer\n",
    "from sklearn.feature_extraction.text import CountVectorizer\n",
    "\n",
    "#word2vec\n",
    "import gensim\n",
    "\n",
    "#PCA\n",
    "from sklearn.decomposition import PCA\n",
    "\n",
    "#NLP\n",
    "import re\n",
    "import nltk\n",
    "nltk.download('stopwords')\n",
    "from nltk.stem import SnowballStemmer\n",
    "from nltk.corpus import stopwords\n",
    "from sklearn.feature_extraction import stop_words\n",
    "from nltk.tokenize.casual import TweetTokenizer # \n",
    "\n",
    "stemmer = SnowballStemmer('english')\n",
    "stop_w = set(stopwords.words(\"english\"))\n",
    "stop_w.update(stop_words.ENGLISH_STOP_WORDS)\n",
    "stop = set([stemmer.stem(w) for w in stop_w])\n",
    "\n",
    "#Google\n",
    "# dire = 'C:\\\\Users\\\\Simon\\\\Desktop\\\\hoodie\\\\Bilou\\\\'\n",
    "# import gensim as gs\n",
    "# google = gs.models.KeyedVectors.load_word2vec_format(dire + \"GoogleNews-vectors-negative300.bin\", binary=True)"
   ]
  },
  {
   "cell_type": "code",
   "execution_count": 16,
   "metadata": {},
   "outputs": [
    {
     "data": {
      "text/plain": [
       "Index(['Not Relevant', 'Relevant', 'Can't Decide'], dtype='object')"
      ]
     },
     "execution_count": 16,
     "metadata": {},
     "output_type": "execute_result"
    }
   ],
   "source": []
  },
  {
   "cell_type": "code",
   "execution_count": 17,
   "metadata": {},
   "outputs": [
    {
     "data": {
      "text/plain": [
       "0        1\n",
       "1        1\n",
       "2        1\n",
       "3        1\n",
       "4        1\n",
       "        ..\n",
       "10871    1\n",
       "10872    1\n",
       "10873    1\n",
       "10874    1\n",
       "10875    1\n",
       "Name: to_predict, Length: 10876, dtype: int64"
      ]
     },
     "execution_count": 17,
     "metadata": {},
     "output_type": "execute_result"
    }
   ],
   "source": [
    "db[\"to_predict\"]"
   ]
  },
  {
   "cell_type": "markdown",
   "metadata": {},
   "source": [
    "### Train/Test files + Tweet Tokenizer"
   ]
  },
  {
   "cell_type": "code",
   "execution_count": 26,
   "metadata": {},
   "outputs": [],
   "source": [
    "db = pd.read_excel(\"Classeur1.xlsx\")\n",
    "dict_values = {'Not Relevant': -1, 'Relevant': 1, \"Can't Decide\": 0}\n",
    "db[\"to_predict\"] = db.choose_one.map(dict_values)\n",
    "db = db[[\"text\", \"to_predict\"]]\n",
    "msk = np.random.rand(len(db)) < 0.8\n",
    "train = db[msk]\n",
    "test = db[~msk]"
   ]
  },
  {
   "cell_type": "code",
   "execution_count": 29,
   "metadata": {},
   "outputs": [],
   "source": [
    "twtk = TweetTokenizer(preserve_case=False, reduce_len=True, strip_handles=True)\n",
    "db[\"text\"].apply(twtk.tokenize)"
   ]
  },
  {
   "cell_type": "code",
   "execution_count": null,
   "metadata": {},
   "outputs": [],
   "source": []
  },
  {
   "cell_type": "code",
   "execution_count": 31,
   "metadata": {},
   "outputs": [
    {
     "data": {
      "text/plain": [
       "0                [just, happened, a, terrible, car, crash]\n",
       "1        [our, deeds, are, the, reason, of, this, #eart...\n",
       "2        [heard, about, #earthquake, is, different, cit...\n",
       "3        [there, is, a, forest, fire, at, spot, pond, ,...\n",
       "4         [forest, fire, near, la, ronge, sask, ., canada]\n",
       "                               ...                        \n",
       "10871    [m1, ., 94, [, 01:04, utc, ], ?, 5km, s, of, v...\n",
       "10872    [police, investigating, after, an, e-bike, col...\n",
       "10873    [the, latest, :, more, homes, razed, by, north...\n",
       "10874    [meg, issues, hazardous, weather, outlook, (, ...\n",
       "10875    [#cityofcalgary, has, activated, its, municipa...\n",
       "Name: text, Length: 10876, dtype: object"
      ]
     },
     "execution_count": 31,
     "metadata": {},
     "output_type": "execute_result"
    }
   ],
   "source": [
    "### Train/Test files"
   ]
  },
  {
   "cell_type": "code",
   "execution_count": null,
   "metadata": {},
   "outputs": [],
   "source": []
  }
 ],
 "metadata": {
  "kernelspec": {
   "display_name": "Python 3",
   "language": "python",
   "name": "python3"
  },
  "language_info": {
   "codemirror_mode": {
    "name": "ipython",
    "version": 3
   },
   "file_extension": ".py",
   "mimetype": "text/x-python",
   "name": "python",
   "nbconvert_exporter": "python",
   "pygments_lexer": "ipython3",
   "version": "3.7.6"
  }
 },
 "nbformat": 4,
 "nbformat_minor": 4
}
